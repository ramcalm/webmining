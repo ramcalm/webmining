{
 "cells": [
  {
   "cell_type": "markdown",
   "metadata": {},
   "source": [
    "<center><h1>k-Means Clustering</h1></center>"
   ]
  },
  {
   "cell_type": "markdown",
   "metadata": {},
   "source": [
    "# Notebook Link:"
   ]
  },
  {
   "cell_type": "markdown",
   "metadata": {},
   "source": [
    "https://tinyurl.com/57w32ru2"
   ]
  },
  {
   "cell_type": "markdown",
   "metadata": {},
   "source": [
    "# Code"
   ]
  },
  {
   "cell_type": "code",
   "execution_count": 44,
   "metadata": {},
   "outputs": [],
   "source": [
    "import math"
   ]
  },
  {
   "cell_type": "code",
   "execution_count": 303,
   "metadata": {},
   "outputs": [],
   "source": [
    "def lower(s):\n",
    "    return s.lower()"
   ]
  },
  {
   "cell_type": "code",
   "execution_count": 304,
   "metadata": {},
   "outputs": [],
   "source": [
    "def removespecial(s):\n",
    "    res=\"\"\n",
    "    for i in s:\n",
    "        if i=='.' or i==',' or i=='!':\n",
    "            continue;\n",
    "        res+=i\n",
    "    return res"
   ]
  },
  {
   "cell_type": "code",
   "execution_count": 305,
   "metadata": {},
   "outputs": [],
   "source": [
    "def vecspace(s,dic):\n",
    "    vec=[0]*len(dic)\n",
    "    wds = s.split()\n",
    "    for i in wds:\n",
    "        if i in dic.keys():\n",
    "            vec[dic[i]]=vec[dic[i]]+1\n",
    "    return vec"
   ]
  },
  {
   "cell_type": "code",
   "execution_count": 306,
   "metadata": {},
   "outputs": [],
   "source": [
    "def eucdist(v1,v2):\n",
    "    sum=0;\n",
    "    for i in range(0,len(v1)):\n",
    "        sum=sum+(v1[i]-v2[i])*(v1[i]-v2[i])\n",
    "    return math.sqrt(sum)"
   ]
  },
  {
   "cell_type": "code",
   "execution_count": 307,
   "metadata": {},
   "outputs": [],
   "source": [
    "def distancematrix(v1,v2):\n",
    "    res=[]\n",
    "    for i in range(0,len(v1)):\n",
    "        dist=[]\n",
    "        for j in range(0,len(v2)):\n",
    "            dist.append(eucdist(v1[i],v2[j]))\n",
    "        res.append(dist)\n",
    "    return res"
   ]
  },
  {
   "cell_type": "code",
   "execution_count": 308,
   "metadata": {},
   "outputs": [],
   "source": [
    "def center(v):\n",
    "    res=[0]*len(v[0])\n",
    "    for i in v:\n",
    "        res = [a + b for a, b in zip(res, i)]\n",
    "    res = [x / len(v) for x in res]\n",
    "    return res"
   ]
  },
  {
   "cell_type": "code",
   "execution_count": 309,
   "metadata": {},
   "outputs": [],
   "source": [
    "def clustering(v,k):\n",
    "    cnt=1\n",
    "    values=[]\n",
    "    res=[]\n",
    "    temp=list(set(tuple(i) for i in v))\n",
    "    if len(temp)<k:\n",
    "        return str(k)+\"-Clustering not possible\"\n",
    "    for i in range(0,k):\n",
    "        values.append([temp[i]])\n",
    "        res.append(list())\n",
    "    centers=[]\n",
    "    for i in values:\n",
    "        centers.append(center(i))\n",
    "    dist=distancematrix(v,centers)\n",
    "    for i in range(0,len(dist)):\n",
    "        x=min(dist[i])\n",
    "        res[dist[i].index(x)].append(i+1)\n",
    "    while True:\n",
    "        values=[]\n",
    "        for i in res:\n",
    "            tmp=[]\n",
    "            for j in i:\n",
    "                tmp.append(v[j-1])\n",
    "            values.append(tmp)\n",
    "        old_centers=centers\n",
    "        centers=list()\n",
    "        for i in values:\n",
    "            centers.append(center(i))\n",
    "        flag=True\n",
    "        for i in range(0,len(centers)):\n",
    "            if centers[i]!=old_centers[i]:\n",
    "                flag=False\n",
    "                break\n",
    "        print(\"After iteration:#\"+str(cnt))\n",
    "        print(res)\n",
    "        print(\"Old Centers:\")\n",
    "        print(old_centers)\n",
    "        print(\"Updated Centers:\")\n",
    "        print(centers)\n",
    "        print()\n",
    "        cnt=cnt+1\n",
    "        if flag:\n",
    "            break\n",
    "        dist=distancematrix(v,centers)\n",
    "        res=[]\n",
    "        for i in range(0,k):\n",
    "            res.append(list())\n",
    "        for i in range(0,len(dist)):\n",
    "            x=min(dist[i])\n",
    "            res[dist[i].index(x)].append(i+1)\n",
    "    print(\"Clustering Complete\")\n",
    "    return res"
   ]
  },
  {
   "cell_type": "markdown",
   "metadata": {},
   "source": [
    "# Dataset:1"
   ]
  },
  {
   "cell_type": "markdown",
   "metadata": {},
   "source": [
    "Doc 1: <br>\n",
    "Nobel prize is awarded by Nobel foundation as per the will of Swede Alfred Nobel <br>\n",
    "Doc-2 <br>\n",
    "C V Raman, an Indian won Nobel prize for physics in 1930 for Raman effect. <br>\n",
    "Doc-3 <br>\n",
    "Kailash Satyarthi, another Indian won Nobel prize for Peace in 2014 <br>\n",
    "Doc-4 <br>\n",
    "Mother Teresa won Nobel prize for peace in 1979. <br>\n",
    "Doc-5 <br>\n",
    "Frederick Reines won Nobel prize for physics for detection of neutrino in 1995.<br>"
   ]
  },
  {
   "cell_type": "markdown",
   "metadata": {},
   "source": [
    "Stop Words: <br>\n",
    "[a] Nobel [b] prize [c] Swede [d] Indian [e] Physics [f] peace <br>"
   ]
  },
  {
   "cell_type": "markdown",
   "metadata": {},
   "source": [
    "## Pre-Processing"
   ]
  },
  {
   "cell_type": "code",
   "execution_count": 310,
   "metadata": {},
   "outputs": [],
   "source": [
    "sent1 = removespecial(lower(\"Nobel prize is awarded by Nobel foundation as per the will of Swede Alfred Nobel.\"))\n",
    "sent2 = removespecial(lower(\"C V Raman, an Indian won Nobel prize for physics in 1930 for Raman effect.\"))\n",
    "sent3 = removespecial(lower(\"Kailash Satyarthi, another Indian won Nobel prize for Peace in 2014.\"))\n",
    "sent4 = removespecial(lower(\"Mother Teresa won Nobel prize for peace in 1979.\"))\n",
    "sent5 = removespecial(lower(\"Frederick Reines won Nobel prize for physics for detection of neutrino in 1995.\"))"
   ]
  },
  {
   "cell_type": "code",
   "execution_count": 311,
   "metadata": {},
   "outputs": [],
   "source": [
    "dic = {\n",
    "    \"nobel\": 0,\n",
    "    \"prize\": 1,\n",
    "    \"swede\": 2,\n",
    "    \"indian\": 3,\n",
    "    \"physics\": 4,\n",
    "    \"peace\": 5\n",
    "}"
   ]
  },
  {
   "cell_type": "code",
   "execution_count": 312,
   "metadata": {},
   "outputs": [
    {
     "data": {
      "text/plain": [
       "6"
      ]
     },
     "execution_count": 312,
     "metadata": {},
     "output_type": "execute_result"
    }
   ],
   "source": [
    "len(dic)"
   ]
  },
  {
   "cell_type": "markdown",
   "metadata": {},
   "source": [
    "## Vector-Space Model"
   ]
  },
  {
   "cell_type": "code",
   "execution_count": 313,
   "metadata": {},
   "outputs": [],
   "source": [
    "v1=vecspace(sent1,dic)\n",
    "v2=vecspace(sent2,dic)\n",
    "v3=vecspace(sent3,dic)\n",
    "v4=vecspace(sent4,dic)\n",
    "v5=vecspace(sent5,dic)"
   ]
  },
  {
   "cell_type": "code",
   "execution_count": 314,
   "metadata": {},
   "outputs": [
    {
     "name": "stdout",
     "output_type": "stream",
     "text": [
      "[3, 1, 1, 0, 0, 0]\n",
      "[1, 1, 0, 1, 1, 0]\n",
      "[1, 1, 0, 1, 0, 1]\n",
      "[1, 1, 0, 0, 0, 1]\n",
      "[1, 1, 0, 0, 1, 0]\n"
     ]
    }
   ],
   "source": [
    "print(v1)\n",
    "print(v2)\n",
    "print(v3)\n",
    "print(v4)\n",
    "print(v5)"
   ]
  },
  {
   "cell_type": "code",
   "execution_count": 315,
   "metadata": {},
   "outputs": [],
   "source": [
    "vectors = list()\n",
    "vectors.append(v1)\n",
    "vectors.append(v2)\n",
    "vectors.append(v3)\n",
    "vectors.append(v4)\n",
    "vectors.append(v5)"
   ]
  },
  {
   "cell_type": "markdown",
   "metadata": {},
   "source": [
    "## Distance-Matrix"
   ]
  },
  {
   "cell_type": "code",
   "execution_count": 316,
   "metadata": {},
   "outputs": [],
   "source": [
    "distmat = distancematrix(vectors,vectors)"
   ]
  },
  {
   "cell_type": "code",
   "execution_count": 317,
   "metadata": {},
   "outputs": [
    {
     "name": "stdout",
     "output_type": "stream",
     "text": [
      "0.00\t 2.65\t 2.65\t 2.45\t 2.45\t \n",
      "2.65\t 0.00\t 1.41\t 1.73\t 1.00\t \n",
      "2.65\t 1.41\t 0.00\t 1.00\t 1.73\t \n",
      "2.45\t 1.73\t 1.00\t 0.00\t 1.41\t \n",
      "2.45\t 1.00\t 1.73\t 1.41\t 0.00\t \n"
     ]
    }
   ],
   "source": [
    "for i in distmat:\n",
    "    for j in i:\n",
    "        print(str(format(j,'.2f'))+\"\\t\",end =\" \"),\n",
    "    print()"
   ]
  },
  {
   "cell_type": "markdown",
   "metadata": {},
   "source": [
    "## K-Clustering"
   ]
  },
  {
   "cell_type": "code",
   "execution_count": 319,
   "metadata": {},
   "outputs": [
    {
     "name": "stdout",
     "output_type": "stream",
     "text": [
      "After iteration:#1\n",
      "[[1], [2, 3, 4, 5]]\n",
      "Old Centers:\n",
      "[[3.0, 1.0, 1.0, 0.0, 0.0, 0.0], [1.0, 1.0, 0.0, 1.0, 0.0, 1.0]]\n",
      "Updated Centers:\n",
      "[[3.0, 1.0, 1.0, 0.0, 0.0, 0.0], [1.0, 1.0, 0.0, 0.5, 0.5, 0.5]]\n",
      "\n",
      "After iteration:#2\n",
      "[[1], [2, 3, 4, 5]]\n",
      "Old Centers:\n",
      "[[3.0, 1.0, 1.0, 0.0, 0.0, 0.0], [1.0, 1.0, 0.0, 0.5, 0.5, 0.5]]\n",
      "Updated Centers:\n",
      "[[3.0, 1.0, 1.0, 0.0, 0.0, 0.0], [1.0, 1.0, 0.0, 0.5, 0.5, 0.5]]\n",
      "\n",
      "Clustering Complete\n",
      "\n",
      "Final Clusters with k=2\n",
      "[[1], [2, 3, 4, 5]]\n"
     ]
    }
   ],
   "source": [
    "res=clustering(vectors,2)\n",
    "\n",
    "print()\n",
    "print(\"Final Clusters with k=2\")\n",
    "print(res)"
   ]
  },
  {
   "cell_type": "code",
   "execution_count": 320,
   "metadata": {},
   "outputs": [
    {
     "name": "stdout",
     "output_type": "stream",
     "text": [
      "After iteration:#1\n",
      "[[1], [3, 4], [2, 5]]\n",
      "Old Centers:\n",
      "[[3.0, 1.0, 1.0, 0.0, 0.0, 0.0], [1.0, 1.0, 0.0, 1.0, 0.0, 1.0], [1.0, 1.0, 0.0, 0.0, 1.0, 0.0]]\n",
      "Updated Centers:\n",
      "[[3.0, 1.0, 1.0, 0.0, 0.0, 0.0], [1.0, 1.0, 0.0, 0.5, 0.0, 1.0], [1.0, 1.0, 0.0, 0.5, 1.0, 0.0]]\n",
      "\n",
      "After iteration:#2\n",
      "[[1], [3, 4], [2, 5]]\n",
      "Old Centers:\n",
      "[[3.0, 1.0, 1.0, 0.0, 0.0, 0.0], [1.0, 1.0, 0.0, 0.5, 0.0, 1.0], [1.0, 1.0, 0.0, 0.5, 1.0, 0.0]]\n",
      "Updated Centers:\n",
      "[[3.0, 1.0, 1.0, 0.0, 0.0, 0.0], [1.0, 1.0, 0.0, 0.5, 0.0, 1.0], [1.0, 1.0, 0.0, 0.5, 1.0, 0.0]]\n",
      "\n",
      "Clustering Complete\n",
      "\n",
      "Final Clusters with k=3\n",
      "[[1], [3, 4], [2, 5]]\n"
     ]
    }
   ],
   "source": [
    "res=clustering(vectors,3)\n",
    "\n",
    "print()\n",
    "print(\"Final Clusters with k=3\")\n",
    "print(res)"
   ]
  },
  {
   "cell_type": "code",
   "execution_count": 321,
   "metadata": {},
   "outputs": [
    {
     "name": "stdout",
     "output_type": "stream",
     "text": [
      "After iteration:#1\n",
      "[[1], [3], [2, 5], [4]]\n",
      "Old Centers:\n",
      "[[3.0, 1.0, 1.0, 0.0, 0.0, 0.0], [1.0, 1.0, 0.0, 1.0, 0.0, 1.0], [1.0, 1.0, 0.0, 0.0, 1.0, 0.0], [1.0, 1.0, 0.0, 0.0, 0.0, 1.0]]\n",
      "Updated Centers:\n",
      "[[3.0, 1.0, 1.0, 0.0, 0.0, 0.0], [1.0, 1.0, 0.0, 1.0, 0.0, 1.0], [1.0, 1.0, 0.0, 0.5, 1.0, 0.0], [1.0, 1.0, 0.0, 0.0, 0.0, 1.0]]\n",
      "\n",
      "After iteration:#2\n",
      "[[1], [3], [2, 5], [4]]\n",
      "Old Centers:\n",
      "[[3.0, 1.0, 1.0, 0.0, 0.0, 0.0], [1.0, 1.0, 0.0, 1.0, 0.0, 1.0], [1.0, 1.0, 0.0, 0.5, 1.0, 0.0], [1.0, 1.0, 0.0, 0.0, 0.0, 1.0]]\n",
      "Updated Centers:\n",
      "[[3.0, 1.0, 1.0, 0.0, 0.0, 0.0], [1.0, 1.0, 0.0, 1.0, 0.0, 1.0], [1.0, 1.0, 0.0, 0.5, 1.0, 0.0], [1.0, 1.0, 0.0, 0.0, 0.0, 1.0]]\n",
      "\n",
      "Clustering Complete\n",
      "\n",
      "Final Clusters with k=4\n",
      "[[1], [3], [2, 5], [4]]\n"
     ]
    }
   ],
   "source": [
    "res=clustering(vectors,4)\n",
    "\n",
    "print()\n",
    "print(\"Final Clusters with k=4\")\n",
    "print(res)"
   ]
  },
  {
   "cell_type": "markdown",
   "metadata": {},
   "source": [
    "# Dataset: 2"
   ]
  },
  {
   "cell_type": "markdown",
   "metadata": {},
   "source": [
    "Doc 1: <br>\n",
    "NAG is an Anti-tank guided Missile developed by India.<br> \n",
    "Doc-2:<br>\n",
    "BrahMos is a Cruise Missile developed jointly by India and Russia.<br>\n",
    "Doc-3:<br>\n",
    "Agni-V is a Inter-Continental Ballistic Missile developed by India.<br>\n",
    "Doc-4:<br>\n",
    "Bulava is Submarine Launched Ballistic Missile developed by Russia.<br>\n",
    "Doc-5:<br>\n",
    "Tomahawk is a Cruise Missile developed by USA<br>"
   ]
  },
  {
   "cell_type": "markdown",
   "metadata": {},
   "source": [
    "Stop Words: <br>\n",
    "[a] Missile [b] India [c] Russia [d] USA [e] Cruise "
   ]
  },
  {
   "cell_type": "markdown",
   "metadata": {},
   "source": [
    "## Pre-Processing"
   ]
  },
  {
   "cell_type": "code",
   "execution_count": 322,
   "metadata": {},
   "outputs": [],
   "source": [
    "sent1 = removespecial(lower(\"NAG is an Anti-tank guided Missile developed by India.\"))\n",
    "sent2 = removespecial(lower(\"BrahMos is a Cruise Missile developed jointly by India and Russia.\"))\n",
    "sent3 = removespecial(lower(\"Agni-V is a Inter-Continental Ballistic Missile developed by India.\"))\n",
    "sent4 = removespecial(lower(\"Bulava is Submarine Launched Ballistic Missile developed by Russia.\"))\n",
    "sent5 = removespecial(lower(\"Tomahawk is a Cruise Missile developed by USA\"))"
   ]
  },
  {
   "cell_type": "code",
   "execution_count": 323,
   "metadata": {},
   "outputs": [],
   "source": [
    "dic = {\n",
    "    \"missile\": 0,\n",
    "    \"india\": 1,\n",
    "    \"russia\": 2,\n",
    "    \"usa\": 3,\n",
    "    \"cruise\": 4,\n",
    "}"
   ]
  },
  {
   "cell_type": "code",
   "execution_count": 324,
   "metadata": {},
   "outputs": [
    {
     "data": {
      "text/plain": [
       "5"
      ]
     },
     "execution_count": 324,
     "metadata": {},
     "output_type": "execute_result"
    }
   ],
   "source": [
    "len(dic)"
   ]
  },
  {
   "cell_type": "markdown",
   "metadata": {},
   "source": [
    "## Vector-Space Model"
   ]
  },
  {
   "cell_type": "code",
   "execution_count": 325,
   "metadata": {},
   "outputs": [],
   "source": [
    "v1=vecspace(sent1,dic)\n",
    "v2=vecspace(sent2,dic)\n",
    "v3=vecspace(sent3,dic)\n",
    "v4=vecspace(sent4,dic)\n",
    "v5=vecspace(sent5,dic)"
   ]
  },
  {
   "cell_type": "code",
   "execution_count": 326,
   "metadata": {},
   "outputs": [
    {
     "name": "stdout",
     "output_type": "stream",
     "text": [
      "[1, 1, 0, 0, 0]\n",
      "[1, 1, 1, 0, 1]\n",
      "[1, 1, 0, 0, 0]\n",
      "[1, 0, 1, 0, 0]\n",
      "[1, 0, 0, 1, 1]\n"
     ]
    }
   ],
   "source": [
    "print(v1)\n",
    "print(v2)\n",
    "print(v3)\n",
    "print(v4)\n",
    "print(v5)"
   ]
  },
  {
   "cell_type": "code",
   "execution_count": 327,
   "metadata": {},
   "outputs": [],
   "source": [
    "vectors = list()\n",
    "vectors.append(v1)\n",
    "vectors.append(v2)\n",
    "vectors.append(v3)\n",
    "vectors.append(v4)\n",
    "vectors.append(v5)"
   ]
  },
  {
   "cell_type": "markdown",
   "metadata": {},
   "source": [
    "## Distance-Matrix"
   ]
  },
  {
   "cell_type": "code",
   "execution_count": 328,
   "metadata": {},
   "outputs": [],
   "source": [
    "distmat = distancematrix(vectors,vectors)"
   ]
  },
  {
   "cell_type": "code",
   "execution_count": 329,
   "metadata": {},
   "outputs": [
    {
     "name": "stdout",
     "output_type": "stream",
     "text": [
      "0.00\t 1.41\t 0.00\t 1.41\t 1.73\t \n",
      "1.41\t 0.00\t 1.41\t 1.41\t 1.73\t \n",
      "0.00\t 1.41\t 0.00\t 1.41\t 1.73\t \n",
      "1.41\t 1.41\t 1.41\t 0.00\t 1.73\t \n",
      "1.73\t 1.73\t 1.73\t 1.73\t 0.00\t \n"
     ]
    }
   ],
   "source": [
    "for i in distmat:\n",
    "    for j in i:\n",
    "        print(str(format(j,'.2f'))+\"\\t\",end =\" \"),\n",
    "    print()"
   ]
  },
  {
   "cell_type": "markdown",
   "metadata": {},
   "source": [
    "## K-Clustering"
   ]
  },
  {
   "cell_type": "code",
   "execution_count": 331,
   "metadata": {},
   "outputs": [
    {
     "name": "stdout",
     "output_type": "stream",
     "text": [
      "After iteration:#1\n",
      "[[1, 2, 3, 4], [5]]\n",
      "Old Centers:\n",
      "[[1.0, 1.0, 1.0, 0.0, 1.0], [1.0, 0.0, 0.0, 1.0, 1.0]]\n",
      "Updated Centers:\n",
      "[[1.0, 0.75, 0.5, 0.0, 0.25], [1.0, 0.0, 0.0, 1.0, 1.0]]\n",
      "\n",
      "After iteration:#2\n",
      "[[1, 2, 3, 4], [5]]\n",
      "Old Centers:\n",
      "[[1.0, 0.75, 0.5, 0.0, 0.25], [1.0, 0.0, 0.0, 1.0, 1.0]]\n",
      "Updated Centers:\n",
      "[[1.0, 0.75, 0.5, 0.0, 0.25], [1.0, 0.0, 0.0, 1.0, 1.0]]\n",
      "\n",
      "Clustering Complete\n",
      "\n",
      "Final Clusters with k=2\n",
      "[[1, 2, 3, 4], [5]]\n"
     ]
    }
   ],
   "source": [
    "res=clustering(vectors,2)\n",
    "\n",
    "print()\n",
    "print(\"Final Clusters with k=2\")\n",
    "print(res)"
   ]
  },
  {
   "cell_type": "code",
   "execution_count": 332,
   "metadata": {},
   "outputs": [
    {
     "name": "stdout",
     "output_type": "stream",
     "text": [
      "After iteration:#1\n",
      "[[2, 4], [5], [1, 3]]\n",
      "Old Centers:\n",
      "[[1.0, 1.0, 1.0, 0.0, 1.0], [1.0, 0.0, 0.0, 1.0, 1.0], [1.0, 1.0, 0.0, 0.0, 0.0]]\n",
      "Updated Centers:\n",
      "[[1.0, 0.5, 1.0, 0.0, 0.5], [1.0, 0.0, 0.0, 1.0, 1.0], [1.0, 1.0, 0.0, 0.0, 0.0]]\n",
      "\n",
      "After iteration:#2\n",
      "[[2, 4], [5], [1, 3]]\n",
      "Old Centers:\n",
      "[[1.0, 0.5, 1.0, 0.0, 0.5], [1.0, 0.0, 0.0, 1.0, 1.0], [1.0, 1.0, 0.0, 0.0, 0.0]]\n",
      "Updated Centers:\n",
      "[[1.0, 0.5, 1.0, 0.0, 0.5], [1.0, 0.0, 0.0, 1.0, 1.0], [1.0, 1.0, 0.0, 0.0, 0.0]]\n",
      "\n",
      "Clustering Complete\n",
      "\n",
      "Final Clusters with k=3\n",
      "[[2, 4], [5], [1, 3]]\n"
     ]
    }
   ],
   "source": [
    "res=clustering(vectors,3)\n",
    "\n",
    "print()\n",
    "print(\"Final Clusters with k=3\")\n",
    "print(res)"
   ]
  },
  {
   "cell_type": "code",
   "execution_count": 333,
   "metadata": {},
   "outputs": [
    {
     "name": "stdout",
     "output_type": "stream",
     "text": [
      "After iteration:#1\n",
      "[[2], [5], [1, 3], [4]]\n",
      "Old Centers:\n",
      "[[1.0, 1.0, 1.0, 0.0, 1.0], [1.0, 0.0, 0.0, 1.0, 1.0], [1.0, 1.0, 0.0, 0.0, 0.0], [1.0, 0.0, 1.0, 0.0, 0.0]]\n",
      "Updated Centers:\n",
      "[[1.0, 1.0, 1.0, 0.0, 1.0], [1.0, 0.0, 0.0, 1.0, 1.0], [1.0, 1.0, 0.0, 0.0, 0.0], [1.0, 0.0, 1.0, 0.0, 0.0]]\n",
      "\n",
      "Clustering Complete\n",
      "\n",
      "Final Clusters with k=4\n",
      "[[2], [5], [1, 3], [4]]\n"
     ]
    }
   ],
   "source": [
    "res=clustering(vectors,4)\n",
    "\n",
    "print()\n",
    "print(\"Final Clusters with k=4\")\n",
    "print(res)"
   ]
  },
  {
   "cell_type": "markdown",
   "metadata": {},
   "source": [
    "# Dataset-3"
   ]
  },
  {
   "cell_type": "markdown",
   "metadata": {},
   "source": [
    "Doc 1: <br>\n",
    "LCA is a multi-role light fighter designed by ADA and developed by HAL,India <br>\n",
    "Doc-2: <br>\n",
    "HAL manufactured JAGUAR fighter planes for IAF in India. <br>\n",
    "Doc-3: <br>\n",
    "MIRAGE 2000 is a fighter plane bought by IAF from France. <br>\n",
    "Doc-4: <br>\n",
    "JAGUAR fighter aircrafts are designed and developed by joint collaboration of UK and France. <br>\n",
    "Doc-5 <br>\n",
    "HAL, India partnered with defence companies of France to develop ALH."
   ]
  },
  {
   "cell_type": "markdown",
   "metadata": {},
   "source": [
    "Stop Words: <br>\n",
    "[a] Fighter [b] India [c] France [d] UK"
   ]
  },
  {
   "cell_type": "markdown",
   "metadata": {},
   "source": [
    "## Pre-Processing"
   ]
  },
  {
   "cell_type": "code",
   "execution_count": 334,
   "metadata": {},
   "outputs": [],
   "source": [
    "sent1 = removespecial(lower(\"LCA is a multi-role light fighter designed by ADA and developed by HAL, India\"))\n",
    "sent2 = removespecial(lower(\"HAL manufactured JAGUAR fighter planes for IAF in India.\"))\n",
    "sent3 = removespecial(lower(\"MIRAGE 2000 is a fighter plane bought by IAF from France.\"))\n",
    "sent4 = removespecial(lower(\"JAGUAR fighter aircrafts are designed and developed by joint collaboration of UK and France.\"))\n",
    "sent5 = removespecial(lower(\"HAL, India partnered with defence companies of France to develop ALH.\"))"
   ]
  },
  {
   "cell_type": "code",
   "execution_count": 335,
   "metadata": {},
   "outputs": [],
   "source": [
    "dic = {\n",
    "    \"fighter\": 0,\n",
    "    \"india\": 1,\n",
    "    \"france\": 2,\n",
    "    \"uk\": 3,\n",
    "}"
   ]
  },
  {
   "cell_type": "code",
   "execution_count": 336,
   "metadata": {},
   "outputs": [
    {
     "data": {
      "text/plain": [
       "4"
      ]
     },
     "execution_count": 336,
     "metadata": {},
     "output_type": "execute_result"
    }
   ],
   "source": [
    "len(dic)"
   ]
  },
  {
   "cell_type": "markdown",
   "metadata": {},
   "source": [
    "## Vector-Space Model"
   ]
  },
  {
   "cell_type": "code",
   "execution_count": 337,
   "metadata": {},
   "outputs": [],
   "source": [
    "v1=vecspace(sent1,dic)\n",
    "v2=vecspace(sent2,dic)\n",
    "v3=vecspace(sent3,dic)\n",
    "v4=vecspace(sent4,dic)\n",
    "v5=vecspace(sent5,dic)"
   ]
  },
  {
   "cell_type": "code",
   "execution_count": 338,
   "metadata": {},
   "outputs": [
    {
     "name": "stdout",
     "output_type": "stream",
     "text": [
      "[1, 1, 0, 0]\n",
      "[1, 1, 0, 0]\n",
      "[1, 0, 1, 0]\n",
      "[1, 0, 1, 1]\n",
      "[0, 1, 1, 0]\n"
     ]
    }
   ],
   "source": [
    "print(v1)\n",
    "print(v2)\n",
    "print(v3)\n",
    "print(v4)\n",
    "print(v5)"
   ]
  },
  {
   "cell_type": "code",
   "execution_count": 339,
   "metadata": {},
   "outputs": [],
   "source": [
    "vectors = list()\n",
    "vectors.append(v1)\n",
    "vectors.append(v2)\n",
    "vectors.append(v3)\n",
    "vectors.append(v4)\n",
    "vectors.append(v5)"
   ]
  },
  {
   "cell_type": "markdown",
   "metadata": {},
   "source": [
    "## Distance-Matrix"
   ]
  },
  {
   "cell_type": "code",
   "execution_count": 340,
   "metadata": {},
   "outputs": [],
   "source": [
    "distmat = distancematrix(vectors,vectors)"
   ]
  },
  {
   "cell_type": "code",
   "execution_count": 341,
   "metadata": {},
   "outputs": [
    {
     "name": "stdout",
     "output_type": "stream",
     "text": [
      "0.00\t 0.00\t 1.41\t 1.73\t 1.41\t \n",
      "0.00\t 0.00\t 1.41\t 1.73\t 1.41\t \n",
      "1.41\t 1.41\t 0.00\t 1.00\t 1.41\t \n",
      "1.73\t 1.73\t 1.00\t 0.00\t 1.73\t \n",
      "1.41\t 1.41\t 1.41\t 1.73\t 0.00\t \n"
     ]
    }
   ],
   "source": [
    "for i in distmat:\n",
    "    for j in i:\n",
    "        print(str(format(j,'.2f'))+\"\\t\",end =\" \"),\n",
    "    print()"
   ]
  },
  {
   "cell_type": "markdown",
   "metadata": {},
   "source": [
    "# K-Clustering"
   ]
  },
  {
   "cell_type": "code",
   "execution_count": 342,
   "metadata": {},
   "outputs": [
    {
     "name": "stdout",
     "output_type": "stream",
     "text": [
      "After iteration:#1\n",
      "[[1, 2, 3, 4], [5]]\n",
      "Old Centers:\n",
      "[[1.0, 1.0, 0.0, 0.0], [0.0, 1.0, 1.0, 0.0]]\n",
      "Updated Centers:\n",
      "[[1.0, 0.5, 0.5, 0.25], [0.0, 1.0, 1.0, 0.0]]\n",
      "\n",
      "After iteration:#2\n",
      "[[1, 2, 3, 4], [5]]\n",
      "Old Centers:\n",
      "[[1.0, 0.5, 0.5, 0.25], [0.0, 1.0, 1.0, 0.0]]\n",
      "Updated Centers:\n",
      "[[1.0, 0.5, 0.5, 0.25], [0.0, 1.0, 1.0, 0.0]]\n",
      "\n",
      "Clustering Complete\n",
      "\n",
      "Final Clusters with k=2\n",
      "[[1, 2, 3, 4], [5]]\n"
     ]
    }
   ],
   "source": [
    "res=clustering(vectors,2)\n",
    "\n",
    "print()\n",
    "print(\"Final Clusters with k=2\")\n",
    "print(res)"
   ]
  },
  {
   "cell_type": "code",
   "execution_count": 343,
   "metadata": {},
   "outputs": [
    {
     "name": "stdout",
     "output_type": "stream",
     "text": [
      "After iteration:#1\n",
      "[[1, 2], [5], [3, 4]]\n",
      "Old Centers:\n",
      "[[1.0, 1.0, 0.0, 0.0], [0.0, 1.0, 1.0, 0.0], [1.0, 0.0, 1.0, 0.0]]\n",
      "Updated Centers:\n",
      "[[1.0, 1.0, 0.0, 0.0], [0.0, 1.0, 1.0, 0.0], [1.0, 0.0, 1.0, 0.5]]\n",
      "\n",
      "After iteration:#2\n",
      "[[1, 2], [5], [3, 4]]\n",
      "Old Centers:\n",
      "[[1.0, 1.0, 0.0, 0.0], [0.0, 1.0, 1.0, 0.0], [1.0, 0.0, 1.0, 0.5]]\n",
      "Updated Centers:\n",
      "[[1.0, 1.0, 0.0, 0.0], [0.0, 1.0, 1.0, 0.0], [1.0, 0.0, 1.0, 0.5]]\n",
      "\n",
      "Clustering Complete\n",
      "\n",
      "Final Clusters with k=3\n",
      "[[1, 2], [5], [3, 4]]\n"
     ]
    }
   ],
   "source": [
    "res=clustering(vectors,3)\n",
    "\n",
    "print()\n",
    "print(\"Final Clusters with k=3\")\n",
    "print(res)"
   ]
  },
  {
   "cell_type": "code",
   "execution_count": 344,
   "metadata": {},
   "outputs": [
    {
     "name": "stdout",
     "output_type": "stream",
     "text": [
      "After iteration:#1\n",
      "[[1, 2], [5], [3], [4]]\n",
      "Old Centers:\n",
      "[[1.0, 1.0, 0.0, 0.0], [0.0, 1.0, 1.0, 0.0], [1.0, 0.0, 1.0, 0.0], [1.0, 0.0, 1.0, 1.0]]\n",
      "Updated Centers:\n",
      "[[1.0, 1.0, 0.0, 0.0], [0.0, 1.0, 1.0, 0.0], [1.0, 0.0, 1.0, 0.0], [1.0, 0.0, 1.0, 1.0]]\n",
      "\n",
      "Clustering Complete\n",
      "\n",
      "Final Clusters with k=4\n",
      "[[1, 2], [5], [3], [4]]\n"
     ]
    }
   ],
   "source": [
    "res=clustering(vectors,4)\n",
    "\n",
    "print()\n",
    "print(\"Final Clusters with k=4\")\n",
    "print(res)"
   ]
  }
 ],
 "metadata": {
  "kernelspec": {
   "display_name": "Python 3",
   "language": "python",
   "name": "python3"
  },
  "language_info": {
   "codemirror_mode": {
    "name": "ipython",
    "version": 3
   },
   "file_extension": ".py",
   "mimetype": "text/x-python",
   "name": "python",
   "nbconvert_exporter": "python",
   "pygments_lexer": "ipython3",
   "version": "3.8.5"
  }
 },
 "nbformat": 4,
 "nbformat_minor": 4
}
