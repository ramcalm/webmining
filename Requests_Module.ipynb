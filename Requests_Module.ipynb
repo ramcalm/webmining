{
 "cells": [
  {
   "cell_type": "markdown",
   "metadata": {},
   "source": [
    "<center><h1>Requests Module</h1></center>"
   ]
  },
  {
   "cell_type": "code",
   "execution_count": 1,
   "metadata": {},
   "outputs": [],
   "source": [
    "import requests\n",
    "from bs4 import BeautifulSoup\n",
    "import re\n",
    "from treelib import Node, Tree"
   ]
  },
  {
   "cell_type": "markdown",
   "metadata": {},
   "source": [
    "## Request Module - Intro"
   ]
  },
  {
   "cell_type": "code",
   "execution_count": 2,
   "metadata": {},
   "outputs": [],
   "source": [
    "x = requests.get('https://w3schools.com/python/demopage.htm')"
   ]
  },
  {
   "cell_type": "code",
   "execution_count": 3,
   "metadata": {},
   "outputs": [
    {
     "data": {
      "text/plain": [
       "'<!DOCTYPE html>\\n<html>\\n<body>\\n\\n<h1>This is a Test Page</h1>\\n\\n</body>\\n</html>'"
      ]
     },
     "execution_count": 3,
     "metadata": {},
     "output_type": "execute_result"
    }
   ],
   "source": [
    "x.text"
   ]
  },
  {
   "cell_type": "code",
   "execution_count": 4,
   "metadata": {},
   "outputs": [
    {
     "data": {
      "text/plain": [
       "200"
      ]
     },
     "execution_count": 4,
     "metadata": {},
     "output_type": "execute_result"
    }
   ],
   "source": [
    "x.status_code"
   ]
  },
  {
   "cell_type": "code",
   "execution_count": 5,
   "metadata": {},
   "outputs": [
    {
     "data": {
      "text/plain": [
       "'https://www.w3schools.com:443/python/demopage.htm'"
      ]
     },
     "execution_count": 5,
     "metadata": {},
     "output_type": "execute_result"
    }
   ],
   "source": [
    "x.url"
   ]
  },
  {
   "cell_type": "code",
   "execution_count": 6,
   "metadata": {},
   "outputs": [
    {
     "data": {
      "text/plain": [
       "<PreparedRequest [GET]>"
      ]
     },
     "execution_count": 6,
     "metadata": {},
     "output_type": "execute_result"
    }
   ],
   "source": [
    "x.request"
   ]
  },
  {
   "cell_type": "code",
   "execution_count": 7,
   "metadata": {},
   "outputs": [
    {
     "data": {
      "text/plain": [
       "'ISO-8859-1'"
      ]
     },
     "execution_count": 7,
     "metadata": {},
     "output_type": "execute_result"
    }
   ],
   "source": [
    "x.encoding"
   ]
  },
  {
   "cell_type": "code",
   "execution_count": 8,
   "metadata": {},
   "outputs": [
    {
     "data": {
      "text/plain": [
       "'ascii'"
      ]
     },
     "execution_count": 8,
     "metadata": {},
     "output_type": "execute_result"
    }
   ],
   "source": [
    "x.apparent_encoding"
   ]
  },
  {
   "cell_type": "code",
   "execution_count": 9,
   "metadata": {},
   "outputs": [
    {
     "data": {
      "text/plain": [
       "[<Response [301]>]"
      ]
     },
     "execution_count": 9,
     "metadata": {},
     "output_type": "execute_result"
    }
   ],
   "source": [
    "x.history"
   ]
  },
  {
   "cell_type": "markdown",
   "metadata": {},
   "source": [
    "## Exercise - Link Tree Graph for VIT Website"
   ]
  },
  {
   "cell_type": "markdown",
   "metadata": {},
   "source": [
    "### Get Source Code of HomePage"
   ]
  },
  {
   "cell_type": "code",
   "execution_count": 10,
   "metadata": {},
   "outputs": [],
   "source": [
    "x = requests.get('https://vit.ac.in')"
   ]
  },
  {
   "cell_type": "markdown",
   "metadata": {},
   "source": [
    "### All Links in Homepage"
   ]
  },
  {
   "cell_type": "code",
   "execution_count": 11,
   "metadata": {},
   "outputs": [],
   "source": [
    "links = {}"
   ]
  },
  {
   "cell_type": "code",
   "execution_count": 12,
   "metadata": {},
   "outputs": [],
   "source": [
    "links = re.findall( r'href=\"https://vit.ac.in/(.*?)\"', x.text)"
   ]
  },
  {
   "cell_type": "code",
   "execution_count": 13,
   "metadata": {},
   "outputs": [
    {
     "data": {
      "text/plain": [
       "{'',\n",
       " 'InternationalRelations',\n",
       " 'about-vit',\n",
       " 'about/administrative-offices',\n",
       " 'about/community-outreach',\n",
       " 'about/communityradio',\n",
       " 'about/infrastructure',\n",
       " 'about/leadership',\n",
       " 'about/news-letter',\n",
       " 'about/ranking-and-accreditation',\n",
       " 'about/sustainability',\n",
       " 'about/vision-mission',\n",
       " 'academics-feedback',\n",
       " 'academics-more/Contact us',\n",
       " 'academics/coe',\n",
       " 'academics/ffcs',\n",
       " 'academics/home',\n",
       " 'academics/iqac',\n",
       " 'academics/library',\n",
       " 'academics/transcripts',\n",
       " 'admissions/international',\n",
       " 'admissions/international/overview',\n",
       " 'admissions/overview',\n",
       " 'admissions/programmes-offered',\n",
       " 'admissions/research',\n",
       " 'admissions/research/Integrated_Ph.D',\n",
       " 'admissions/research/phd',\n",
       " 'all-courses/pg',\n",
       " 'all-courses/ug',\n",
       " 'all-events',\n",
       " 'all-news-archieved',\n",
       " 'alumni-events',\n",
       " 'alumni-office-contact',\n",
       " 'alumni_progression',\n",
       " 'anti-ragging-committee',\n",
       " 'applications-open-2021-22',\n",
       " 'ariia-award',\n",
       " 'campus-category/Campus-Events',\n",
       " 'campus-category/Chapters',\n",
       " 'campus-category/Clubs',\n",
       " 'campus-category/Counselling-Division',\n",
       " 'campus-category/Student-Council',\n",
       " 'campus-category/grievancecell',\n",
       " 'campus-hostel/hostels',\n",
       " 'campuslife/fests',\n",
       " 'campuslife/healthservices',\n",
       " 'campuslife/hostels',\n",
       " 'campuslife/otheramenities',\n",
       " 'campuslife/overview',\n",
       " 'campuslife/sports',\n",
       " 'campuslife/studentswelfare',\n",
       " 'capability-enhancement-scheme',\n",
       " 'career-development-centre',\n",
       " 'career-development-centrecdc-contact',\n",
       " 'centers/asc',\n",
       " 'contactus',\n",
       " 'detailview/75th-independence-day-celebration-inauguration-photo-exhibition',\n",
       " 'detailview/alumni-photo-gallery',\n",
       " 'detailview/green-vit',\n",
       " 'files/VIT-innovation-and-startup-policy.pdf',\n",
       " 'files/VIT-redressal-policy-antidiscrimination.pdf',\n",
       " 'files/e-SANAD-Notification.pdf',\n",
       " 'galleries',\n",
       " 'general/aqua-thon',\n",
       " 'general/basics-ux',\n",
       " 'general/becoming-i-foundation-students-welfare-event',\n",
       " 'general/decrypting-cryptocurrencies',\n",
       " 'general/hydro-panel',\n",
       " 'general/rapid-flow-contest',\n",
       " 'general/waste-water-paradox',\n",
       " 'general/webinar-kickstart-kaggle',\n",
       " 'governance',\n",
       " 'guest-house',\n",
       " 'hotels-in-vellore',\n",
       " 'institutional-student-grievance-redressal-committee-isgrc',\n",
       " 'instruction',\n",
       " 'internal-complaints-committee',\n",
       " 'international-yoga-day-2021-0',\n",
       " 'internationalrelations/itp',\n",
       " 'internationalrelations/partneruniversities',\n",
       " 'internationalrelations/sap',\n",
       " 'iprcell',\n",
       " 'mhrdugc',\n",
       " 'national-institutional-ranking-framework-nirf',\n",
       " 'photo-exhibition-75th-year-indian-independence',\n",
       " 'placements/dreamoffers',\n",
       " 'placements/internship',\n",
       " 'placements/overview',\n",
       " 'placements/pat-Office',\n",
       " 'placements/statistics',\n",
       " 'placements/superdreamoffers',\n",
       " 'programmes-offered-1',\n",
       " 'programmes-offered-2020-21',\n",
       " 'programmes-offered-2021-22',\n",
       " 'qs-ranks-vit-one-among-top-12-institutions-india-engineering-and-technology',\n",
       " 'redressal',\n",
       " 'research',\n",
       " 'research/academic',\n",
       " 'research/centers-list',\n",
       " 'research/sponsored-research',\n",
       " 'rss.xml',\n",
       " 'school-advanced-sciences-sas/8th-international-conference-mathematics-and-computing-icmc-2022',\n",
       " 'school-civil-engineering-sce/2nd-international-conference-recent-trends-construction-materials-and',\n",
       " 'school-computer-science-and-engineering-scope/international-conference-computational-methods-and',\n",
       " 'school-electrical-engineering-select/innovations-power-and-advanced-computing-technologies-i',\n",
       " 'school-electronics-engineering-sense/international-conference-intelligent-communication-video-image',\n",
       " 'school-mechanical-engineeringsmec/27th-national-conference-internal-combustion-engines-and',\n",
       " 'school-mechanical-engineeringsmec/virtual-international-conference-product-design-development-and',\n",
       " 'schools',\n",
       " 'sites/all/themes/vittheme/favicon.ico',\n",
       " 'sites/default/files/FormatGuidelines.doc',\n",
       " 'sites/default/files/SBST_Freshers_App.rar',\n",
       " 'sites/default/files/Student-Code-of-Conduct.pdf',\n",
       " 'sites/default/files/academic/Academic-Regulations.pdf',\n",
       " 'sites/default/files/footer_menu_doc/FormatGuidelines%20%283%29.doc',\n",
       " 'stars-support-advancement-rural-students-0',\n",
       " 'transcripts-alumni',\n",
       " 'true-green',\n",
       " 'vellore-institute-technology-vit-triumphs-tata-steel-materialnext-20-0',\n",
       " 'video',\n",
       " 'vit-donates-%E2%82%B9150-cr-cm%E2%80%99s-fund',\n",
       " 'vit-institution-eminence-ioe',\n",
       " 'vit-milestones',\n",
       " 'vit-rank',\n",
       " 'vit-university-sets-record-limca-book-records',\n",
       " 'vitol/',\n",
       " 'world-university-rankings-2020'}"
      ]
     },
     "execution_count": 13,
     "metadata": {},
     "output_type": "execute_result"
    }
   ],
   "source": [
    "link = set(links)\n",
    "link"
   ]
  },
  {
   "cell_type": "markdown",
   "metadata": {},
   "source": [
    "### Url Tags in VIT Website"
   ]
  },
  {
   "cell_type": "code",
   "execution_count": 14,
   "metadata": {},
   "outputs": [],
   "source": [
    "children = [\"about-vit\",\"academics-feedback\",\"career-development-centre\",\"InternationalRelations\",\"campuslife/overview\"]\n",
    "tag =[\"about\",\"academics\",\"placements\",\"internationalrelations\",\"campuslife\"]"
   ]
  },
  {
   "cell_type": "markdown",
   "metadata": {},
   "source": [
    "### Create Tree with those tags and identify sub-links"
   ]
  },
  {
   "cell_type": "code",
   "execution_count": 15,
   "metadata": {},
   "outputs": [],
   "source": [
    "root=\"vit.ac.in/\"\n",
    "tree = Tree()\n",
    "tree.create_node(root,root)\n",
    "for i in range(0,len(tag)):\n",
    "    tree.create_node(tag[i]+\"/ (\"+children[i]+\")\",tag[i],parent=root)"
   ]
  },
  {
   "cell_type": "code",
   "execution_count": 16,
   "metadata": {},
   "outputs": [
    {
     "name": "stdout",
     "output_type": "stream",
     "text": [
      "https://vit.ac.in/about/(.*?)\n",
      "{'community-outreach', 'news-letter', 'vision-mission', 'leadership', 'infrastructure', 'communityradio', 'administrative-offices', 'ranking-and-accreditation', 'sustainability'}\n",
      "https://vit.ac.in/academics/(.*?)\n",
      "{'iqac', 'library', 'transcripts', 'coe', 'ffcs', 'home'}\n",
      "https://vit.ac.in/placements/(.*?)\n",
      "{'internship', 'pat-Office', 'dreamoffers', 'overview', 'statistics', 'superdreamoffers'}\n",
      "https://vit.ac.in/internationalrelations/(.*?)\n",
      "{'partneruniversities', 'itp', 'sap'}\n",
      "https://vit.ac.in/campuslife/(.*?)\n",
      "{'studentswelfare', 'hostels', 'healthservices', 'sports', 'overview', 'fests', 'otheramenities'}\n"
     ]
    }
   ],
   "source": [
    "nodes=set()\n",
    "for i in range(0,len(children)):\n",
    "    url=\"https://vit.ac.in/\"+children[i];\n",
    "    x = requests.get(url)\n",
    "    tmp=\"https://vit.ac.in/\"+tag[i]+\"/(.*?)\"\n",
    "    print(tmp)\n",
    "    root=tag[i]\n",
    "    links = re.findall( r'href=\"'+tmp+'\"', x.text)\n",
    "    link=set(links)\n",
    "    print(link)\n",
    "    for j in link:\n",
    "        temp=j;\n",
    "        if j in nodes:\n",
    "            temp=temp+\" \"\n",
    "        nodes.add(temp)\n",
    "        tree.create_node(temp,temp, parent=root)"
   ]
  },
  {
   "cell_type": "markdown",
   "metadata": {},
   "source": [
    "### Display URL Tree"
   ]
  },
  {
   "cell_type": "code",
   "execution_count": 17,
   "metadata": {},
   "outputs": [
    {
     "name": "stdout",
     "output_type": "stream",
     "text": [
      "vit.ac.in/\n",
      "├── about/ (about-vit)\n",
      "│   ├── administrative-offices\n",
      "│   ├── community-outreach\n",
      "│   ├── communityradio\n",
      "│   ├── infrastructure\n",
      "│   ├── leadership\n",
      "│   ├── news-letter\n",
      "│   ├── ranking-and-accreditation\n",
      "│   ├── sustainability\n",
      "│   └── vision-mission\n",
      "├── academics/ (academics-feedback)\n",
      "│   ├── coe\n",
      "│   ├── ffcs\n",
      "│   ├── home\n",
      "│   ├── iqac\n",
      "│   ├── library\n",
      "│   └── transcripts\n",
      "├── campuslife/ (campuslife/overview)\n",
      "│   ├── fests\n",
      "│   ├── healthservices\n",
      "│   ├── hostels\n",
      "│   ├── otheramenities\n",
      "│   ├── overview \n",
      "│   ├── sports\n",
      "│   └── studentswelfare\n",
      "├── internationalrelations/ (InternationalRelations)\n",
      "│   ├── itp\n",
      "│   ├── partneruniversities\n",
      "│   └── sap\n",
      "└── placements/ (career-development-centre)\n",
      "    ├── dreamoffers\n",
      "    ├── internship\n",
      "    ├── overview\n",
      "    ├── pat-Office\n",
      "    ├── statistics\n",
      "    └── superdreamoffers\n",
      "\n"
     ]
    }
   ],
   "source": [
    "tree.show()"
   ]
  },
  {
   "cell_type": "code",
   "execution_count": null,
   "metadata": {},
   "outputs": [],
   "source": []
  }
 ],
 "metadata": {
  "interpreter": {
   "hash": "210458183a09544cab6cd8a12980a13a3cd4d33f0e67542affee8fe248007c97"
  },
  "kernelspec": {
   "display_name": "Python 3",
   "language": "python",
   "name": "python3"
  },
  "language_info": {
   "codemirror_mode": {
    "name": "ipython",
    "version": 3
   },
   "file_extension": ".py",
   "mimetype": "text/x-python",
   "name": "python",
   "nbconvert_exporter": "python",
   "pygments_lexer": "ipython3",
   "version": "3.8.5"
  }
 },
 "nbformat": 4,
 "nbformat_minor": 2
}
