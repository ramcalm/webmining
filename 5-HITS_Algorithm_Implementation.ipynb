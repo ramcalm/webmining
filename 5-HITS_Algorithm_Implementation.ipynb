{
 "cells": [
  {
   "cell_type": "markdown",
   "metadata": {},
   "source": [
    "<center><h1>HITS Algorithm</h1></center>"
   ]
  },
  {
   "cell_type": "markdown",
   "metadata": {},
   "source": [
    "# Notebook Link"
   ]
  },
  {
   "cell_type": "markdown",
   "metadata": {},
   "source": [
    "## https://tinyurl.com/2fy3f7aw"
   ]
  },
  {
   "cell_type": "markdown",
   "metadata": {
    "id": "Y4csVATziFgL"
   },
   "source": [
    "# Graph 1"
   ]
  },
  {
   "cell_type": "markdown",
   "metadata": {
    "id": "XL_EtjgFhETD"
   },
   "source": [
    "<p align=\"center\">\n",
    "  <img src=\"https://i.ibb.co/9h2X5Nm/graph1.jpg\">\n",
    "</p>"
   ]
  },
  {
   "cell_type": "markdown",
   "metadata": {
    "id": "41VHKFDOiIby"
   },
   "source": [
    "<h3> Let d0,d1,d2,d3,d4,d5,d6 be 0,1,2,3,4,5,6 </h3>\n"
   ]
  },
  {
   "cell_type": "markdown",
   "metadata": {
    "id": "n1aOhKdHwkIi"
   },
   "source": [
    "## Initialize the Indegree and Outdegree matrix representing the links between vertices"
   ]
  },
  {
   "cell_type": "code",
   "execution_count": 137,
   "metadata": {
    "id": "oW290gnEhB44"
   },
   "outputs": [],
   "source": [
    "indeg = {0: [2], 1: [1], 2:[0, 1, 2], 3:[2, 3, 6], 4:[3, 6], 5:[5], 6:[4, 5, 6]}\n",
    "outdeg = {0: [2], 1: [1, 2], 2:[0, 2, 3], 3:[3, 4], 4: [6], 5:[5, 6], 6:[3, 4, 6]}"
   ]
  },
  {
   "cell_type": "markdown",
   "metadata": {
    "id": "QiWYhY-IyQQ7"
   },
   "source": [
    "## Question: 1"
   ]
  },
  {
   "cell_type": "markdown",
   "metadata": {
    "id": "SIFadvLSw_Bz"
   },
   "source": [
    "### Calculating Hub and Authoritiy Scores for Graph-1 without including Self-loops (**Question: 1**)"
   ]
  },
  {
   "cell_type": "code",
   "execution_count": 138,
   "metadata": {
    "id": "SAUBjcUijEFU"
   },
   "outputs": [],
   "source": [
    "hub = [1,1,1,1,1,1,1]\n",
    "auth = [1,1,1,1,1,1,1]\n",
    "hub[:] = [x / sum(hub) for x in hub]\n",
    "auth[:] = [x / sum(auth) for x in auth]\n",
    "\n",
    "for i in range(1,25):\n",
    "  #Authority Update\n",
    "  for i in range(0,7):\n",
    "    s=0\n",
    "    for j in range(0,len(indeg[i])):\n",
    "      #Check for self-loop\n",
    "      if not i==indeg[i][j]:\n",
    "        s=s+hub[indeg[i][j]]\n",
    "    auth[i]=s\n",
    "  #Hub Update\n",
    "  for i in range(0,7):\n",
    "    s=0\n",
    "    for j in range(0,len(outdeg[i])):\n",
    "      #Check for Self-loop\n",
    "      if not i==outdeg[i][j]:\n",
    "        s=s+auth[outdeg[i][j]]\n",
    "    hub[i]=s\n",
    "  #Normalization\n",
    "  hub[:] = [x / sum(hub) for x in hub]\n",
    "  auth[:] = [x / sum(auth) for x in auth]"
   ]
  },
  {
   "cell_type": "markdown",
   "metadata": {
    "id": "xZUGEK49zeLZ"
   },
   "source": [
    "### Output"
   ]
  },
  {
   "cell_type": "code",
   "execution_count": 139,
   "metadata": {
    "colab": {
     "base_uri": "https://localhost:8080/"
    },
    "id": "B97a_FBTl0fI",
    "outputId": "d5d5e10d-de6c-421c-a768-54824ce2083d"
   },
   "outputs": [
    {
     "name": "stdout",
     "output_type": "stream",
     "text": [
      "Node\t\tAuth\t\t\tHub\n",
      "d0\t\t0.19805995\t\t0.00000324\n",
      "d1\t\t0.00000000\t\t0.00000324\n",
      "d2\t\t0.00000585\t\t0.35689124\n",
      "d3\t\t0.44503666\t\t0.19805969\n",
      "d4\t\t0.35689170\t\t0.00000324\n",
      "d5\t\t0.00000000\t\t0.00000324\n",
      "d6\t\t0.00000585\t\t0.44503609\n"
     ]
    }
   ],
   "source": [
    "print(\"Node\\t\\tAuth\\t\\t\\tHub\")\n",
    "for i in range(0,7):\n",
    "  print(\"d\"+str(i)+\"\\t\\t\"+str(format(auth[i],'.8f'))+\"\\t\\t\"+str(format(hub[i],'.8f')))"
   ]
  },
  {
   "cell_type": "markdown",
   "metadata": {
    "id": "ImG9Zh4nyLP0"
   },
   "source": [
    "## Question: 2"
   ]
  },
  {
   "cell_type": "markdown",
   "metadata": {
    "id": "XzhZSlOSxONS"
   },
   "source": [
    "### Calculating Hub and Authoritiy Scores for Graph-1 including Self-loops (**Question: 2**)"
   ]
  },
  {
   "cell_type": "code",
   "execution_count": 140,
   "metadata": {
    "id": "yNJ_DCt4pEj7"
   },
   "outputs": [],
   "source": [
    "hub = [1,1,1,1,1,1,1]\n",
    "auth = [1,1,1,1,1,1,1]\n",
    "hub[:] = [x / sum(hub) for x in hub]\n",
    "auth[:] = [x / sum(auth) for x in auth]\n",
    "\n",
    "for k in range(1,25):\n",
    "  #Authority Update\n",
    "  for i in range(0,7):\n",
    "    s=0\n",
    "    for j in range(0,len(indeg[i])):\n",
    "      s=s+hub[indeg[i][j]]\n",
    "    auth[i]=s\n",
    "  #Hub Update\n",
    "  for i in range(0,7):\n",
    "    s=0\n",
    "    for j in range(0,len(outdeg[i])):\n",
    "      s=s+auth[outdeg[i][j]]\n",
    "    hub[i]=s\n",
    "  #Normalization\n",
    "  hub[:] = [x / sum(hub) for x in hub]\n",
    "  auth[:] = [x / sum(auth) for x in auth]"
   ]
  },
  {
   "cell_type": "markdown",
   "metadata": {
    "id": "3rb6wKC6zZKa"
   },
   "source": [
    "### Output"
   ]
  },
  {
   "cell_type": "code",
   "execution_count": 141,
   "metadata": {
    "colab": {
     "base_uri": "https://localhost:8080/"
    },
    "id": "kJbduMb_zVfg",
    "outputId": "e12c653c-4caa-4915-f7a6-070c3cff92cd"
   },
   "outputs": [
    {
     "name": "stdout",
     "output_type": "stream",
     "text": [
      "Node\t\tAuth\t\t\tHub\n",
      "d0\t\t0.09180087\t\t0.05973483\n",
      "d1\t\t0.03056107\t\t0.07209617\n",
      "d2\t\t0.14768311\t\t0.21656714\n",
      "d3\t\t0.29593743\t\t0.20226982\n",
      "d4\t\t0.20413656\t\t0.07704001\n",
      "d5\t\t0.03941406\t\t0.09298220\n",
      "d6\t\t0.19046690\t\t0.27930983\n"
     ]
    }
   ],
   "source": [
    "print(\"Node\\t\\tAuth\\t\\t\\tHub\")\n",
    "for i in range(0,7):\n",
    "  print(\"d\"+str(i)+\"\\t\\t\"+str(format(auth[i],'.8f'))+\"\\t\\t\"+str(format(hub[i],'.8f')))"
   ]
  },
  {
   "cell_type": "markdown",
   "metadata": {
    "id": "ni4fC607vkyh"
   },
   "source": [
    "# Graph 2"
   ]
  },
  {
   "cell_type": "markdown",
   "metadata": {
    "id": "1P1gfMxNvqCJ"
   },
   "source": [
    "<p align=\"center\">\n",
    "  <img src=\"https://i.ibb.co/71PBrpM/graph2.jpg\">\n",
    "</p>"
   ]
  },
  {
   "cell_type": "markdown",
   "metadata": {
    "id": "vYOtxTmFxczZ"
   },
   "source": [
    "## Initialize the Indegree and Outdegree lists representing the links between vertices. Since in this graph the number of links between vertices maybe greater than 1, create the lists accordingly \n",
    "\n",
    "<h3>Ex: As there are 2 links from 2 to 3, outdeg[2] will be [0,2,3,3]</h3>"
   ]
  },
  {
   "cell_type": "code",
   "execution_count": 142,
   "metadata": {
    "id": "Ruj9Ye4duVLb"
   },
   "outputs": [],
   "source": [
    "indeg = {0: [2], 1: [1], 2:[0, 1, 2], 3:[2, 2, 3, 6, 6], 4:[3, 6], 5:[5], 6:[4, 5, 6]}\n",
    "outdeg = {0: [2], 1: [1, 2], 2:[0, 2, 3, 3], 3:[3, 4], 4: [6], 5:[5, 6], 6:[3, 3, 4, 6]}"
   ]
  },
  {
   "cell_type": "markdown",
   "metadata": {
    "id": "oa-4e2DPyDLZ"
   },
   "source": [
    "## Question : 3 "
   ]
  },
  {
   "cell_type": "markdown",
   "metadata": {
    "id": "4l0Y3pBLx81J"
   },
   "source": [
    "### Calculating Hub and Authoritiy Scores for Graph-2 including Self-loops (**Question: 3**)"
   ]
  },
  {
   "cell_type": "code",
   "execution_count": 143,
   "metadata": {
    "id": "mLGakGbywXRo"
   },
   "outputs": [],
   "source": [
    "hub = [1,1,1,1,1,1,1]\n",
    "auth = [1,1,1,1,1,1,1]\n",
    "hub[:] = [x / sum(hub) for x in hub]\n",
    "auth[:] = [x / sum(auth) for x in auth]\n",
    "\n",
    "for k in range(1,25):\n",
    "  #Authority Update\n",
    "  for i in range(0,7):\n",
    "    s=0\n",
    "    for j in range(0,len(indeg[i])):\n",
    "      s=s+hub[indeg[i][j]]\n",
    "    auth[i]=s\n",
    "  #Hub update\n",
    "  for i in range(0,7):\n",
    "    s=0\n",
    "    for j in range(0,len(outdeg[i])):\n",
    "      s=s+auth[outdeg[i][j]]\n",
    "    hub[i]=s\n",
    "  #Normalization\n",
    "  hub[:] = [x / sum(hub) for x in hub]\n",
    "  auth[:] = [x / sum(auth) for x in auth]"
   ]
  },
  {
   "cell_type": "markdown",
   "metadata": {
    "id": "1W8wa9fNzF9A"
   },
   "source": [
    "### Output"
   ]
  },
  {
   "cell_type": "code",
   "execution_count": 144,
   "metadata": {
    "colab": {
     "base_uri": "https://localhost:8080/"
    },
    "id": "V2OhKee_yr6h",
    "outputId": "707a8c8b-7787-442d-baab-092001adcc18"
   },
   "outputs": [
    {
     "name": "stdout",
     "output_type": "stream",
     "text": [
      "Node\t\tAuth\t\t\tHub\n",
      "d0\t\t0.09987146\t\t0.03463315\n",
      "d1\t\t0.01157767\t\t0.03791917\n",
      "d2\t\t0.12202351\t\t0.32709871\n",
      "d3\t\t0.46528848\t\t0.17743188\n",
      "d4\t\t0.15985998\t\t0.03664935\n",
      "d5\t\t0.01225168\t\t0.04012667\n",
      "d6\t\t0.12912722\t\t0.34614107\n"
     ]
    }
   ],
   "source": [
    "print(\"Node\\t\\tAuth\\t\\t\\tHub\")\n",
    "for i in range(0,7):\n",
    "  print(\"d\"+str(i)+\"\\t\\t\"+str(format(auth[i],'.8f'))+\"\\t\\t\"+str(format(hub[i],'.8f')))"
   ]
  }
 ],
 "metadata": {
  "colab": {
   "collapsed_sections": [],
   "name": "Lab6_HITS.ipynb",
   "provenance": []
  },
  "kernelspec": {
   "display_name": "Python 3",
   "language": "python",
   "name": "python3"
  },
  "language_info": {
   "codemirror_mode": {
    "name": "ipython",
    "version": 3
   },
   "file_extension": ".py",
   "mimetype": "text/x-python",
   "name": "python",
   "nbconvert_exporter": "python",
   "pygments_lexer": "ipython3",
   "version": "3.8.5"
  }
 },
 "nbformat": 4,
 "nbformat_minor": 1
}
