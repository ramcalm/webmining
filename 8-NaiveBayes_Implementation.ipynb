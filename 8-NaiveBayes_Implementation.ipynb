{
 "cells": [
  {
   "cell_type": "markdown",
   "metadata": {},
   "source": [
    "<center><h1>Naive-Bayes Classification</h1></center>"
   ]
  },
  {
   "cell_type": "markdown",
   "metadata": {},
   "source": [
    "# Notebook Link:"
   ]
  },
  {
   "cell_type": "markdown",
   "metadata": {},
   "source": [
    "<a href=\"https://tinyurl.com/eh56w8j4\">Link</a>"
   ]
  },
  {
   "cell_type": "markdown",
   "metadata": {},
   "source": [
    "# Code"
   ]
  },
  {
   "cell_type": "code",
   "execution_count": 194,
   "metadata": {},
   "outputs": [],
   "source": [
    "from nltk.stem import PorterStemmer\n",
    "from nltk.tokenize import word_tokenize\n",
    "  \n",
    "ps = PorterStemmer()"
   ]
  },
  {
   "cell_type": "markdown",
   "metadata": {},
   "source": [
    "## Load Train and Test Data"
   ]
  },
  {
   "cell_type": "code",
   "execution_count": 195,
   "metadata": {},
   "outputs": [],
   "source": [
    "test_data =[ \"sheikh-hasina-keeps-home-foreign-affairs-defence-portfolios\",\n",
    "            \"hasina-ready-to-protect-democracy\",\n",
    "            \"agusta-gets-stay-on-india-encashing-bank-guarantee\",\n",
    "            \"modi-nervous-over-aaps-emergence-congress\",\n",
    "            \"united-ap-supporters-burn-copies-of-draft-tbill\",\n",
    "            \"seemandhra-mps-ignore-aicc-team\",\n",
    "            \"sena-slams-devyanis-father-for-terming-media-casteist\",\n",
    "            \"evangelist-benny-hinns-bangalore-visit-cancelled\",\n",
    "            \"mallika-sarabhai-joins-aap\",\n",
    "            \"devyani-khobragade-leaves-for-india-mea\",\n",
    "            \"deeply-regret-that-india-expelled-our-diplomat-us\",\n",
    "            \"milkha-singhs-wife-daughter-join-aap\",\n",
    "            \"baba-ramdev-to-begin-vote-for-modi-yatra\",\n",
    "            \"bjp-launches-drive-for-donations-to-modi-for-pm-fund\"]\n",
    "\n",
    "n = len(test_data)"
   ]
  },
  {
   "cell_type": "code",
   "execution_count": 196,
   "metadata": {},
   "outputs": [],
   "source": [
    "training_data=[\"president-nod-for-lokpal-bill\",\n",
    "               \"india-scraps-vvip-chopper-deal-with-agustawestland\",\n",
    "               \"maldives-president-coming-today\",\n",
    "               \"mdmk-to-be-part-of-bjp-led-nda\",\n",
    "               \"ex-envoy-hardeep-puri-joins-bjp\",\n",
    "               \"modi-to-address-rally-in-panaji\",\n",
    "               \"church-not-against-modi-bishop\",\n",
    "               \"aap-government-wins-confidence-vote\",\n",
    "               \"seemandhra-bandh-hits-ap-tn\",\n",
    "               \"ramdev-offers-conditional-support-to-modi\",\n",
    "               \"aap-retains-jhaadu-as-its-symbol\",\n",
    "               \"violence-mars-poll-in-bangladesh\",\n",
    "               \"modi-accepts-ramdevs-terms-for-support\",\n",
    "               \"bhutan-king-arrives-on-5-day-visit\",\n",
    "               \"sheikh-hasina-set-to-form-govt-again\",\n",
    "               \"four-killed-in-postpoll-violence-in-bangladesh\"]\n",
    "\n",
    "training_class=[\"India\",\"India\",\"Others\",\"India\",\"India\",\"India\",\"India\",\"India\",\"India\",\"India\",\"India\",\"Bangladesh\",\"India\",\n",
    "                \"Others\",\"Bangladesh\",\"Bangladesh\"]\n",
    "\n",
    "N = len(training_class)\n",
    "\n",
    "classes=  [\"India\", \"Bangladesh\", \"Others\"]\n"
   ]
  },
  {
   "cell_type": "markdown",
   "metadata": {},
   "source": [
    "## Data Pre-processing (Stemming)"
   ]
  },
  {
   "cell_type": "code",
   "execution_count": 197,
   "metadata": {},
   "outputs": [],
   "source": [
    "def stem_data(s):\n",
    "    x=s.split(\"-\")\n",
    "    res=ps.stem(x[0])\n",
    "    for i in range(1,len(x)):\n",
    "        res=res+\"-\"+ps.stem(x[i])\n",
    "    return res\n",
    "    "
   ]
  },
  {
   "cell_type": "code",
   "execution_count": 198,
   "metadata": {},
   "outputs": [],
   "source": [
    "for i in range(0,N):\n",
    "    training_data[i]=stem_data(training_data[i])\n",
    "for i in range(0,n):\n",
    "    test_data[i]=stem_data(test_data[i])"
   ]
  },
  {
   "cell_type": "markdown",
   "metadata": {},
   "source": [
    "## Grouping data by Class - India, Bangladesh, Others"
   ]
  },
  {
   "cell_type": "code",
   "execution_count": 199,
   "metadata": {},
   "outputs": [],
   "source": [
    "c1=c2=c3=0\n",
    "data1=[]\n",
    "data2=[]\n",
    "data3=[]\n",
    "for i in range(0,N):\n",
    "    if training_class[i]==\"India\":\n",
    "        data1.append(training_data[i])\n",
    "        c1=c1+1\n",
    "    if training_class[i]==\"Bangladesh\":\n",
    "        data2.append(training_data[i])\n",
    "        c2=c2+1\n",
    "    if training_class[i]==\"Others\":\n",
    "        data3.append(training_data[i])\n",
    "        c3=c3+1\n",
    "pa,pb,pc=c1/N,c2/N,c3/N"
   ]
  },
  {
   "cell_type": "markdown",
   "metadata": {},
   "source": [
    "## Prior Probabilities"
   ]
  },
  {
   "cell_type": "code",
   "execution_count": 200,
   "metadata": {},
   "outputs": [
    {
     "name": "stdout",
     "output_type": "stream",
     "text": [
      "Count\n",
      "India: 11 , Bangaldesh: 3 , Others: 2\n",
      "Prior Probabilities:\n",
      "India: 0.6875 , Bangladesh: 0.1875 , Others: 0.125\n"
     ]
    }
   ],
   "source": [
    "print(\"Count\")\n",
    "print(\"India:\",c1,\", Bangaldesh:\",c2,\", Others:\",c3)\n",
    "\n",
    "print(\"Prior Probabilities:\")\n",
    "print(\"India:\",c1/N,\", Bangladesh:\",c2/N,\", Others:\",c3/N)"
   ]
  },
  {
   "cell_type": "markdown",
   "metadata": {},
   "source": [
    "## Words in each class and respective frequency, Vocabulary Count"
   ]
  },
  {
   "cell_type": "code",
   "execution_count": 201,
   "metadata": {},
   "outputs": [],
   "source": [
    "def getdata(data):\n",
    "    words = set()\n",
    "    word_map = {}\n",
    "    for i in data:\n",
    "        x=i.split(\"-\")\n",
    "        for j in x:\n",
    "            words.add(ps.stem(j))\n",
    "            if ps.stem(j) in word_map.keys():\n",
    "                word_map[ps.stem(j)]=word_map[ps.stem(j)]+1;\n",
    "            else:\n",
    "                word_map[ps.stem(j)]=1\n",
    "    return words,word_map"
   ]
  },
  {
   "cell_type": "code",
   "execution_count": 202,
   "metadata": {},
   "outputs": [],
   "source": [
    "c1_words,c1_freq=getdata(data1)"
   ]
  },
  {
   "cell_type": "code",
   "execution_count": 203,
   "metadata": {},
   "outputs": [],
   "source": [
    "c2_words,c2_freq=getdata(data2)"
   ]
  },
  {
   "cell_type": "code",
   "execution_count": 204,
   "metadata": {},
   "outputs": [],
   "source": [
    "c3_words,c3_freq=getdata(data3)"
   ]
  },
  {
   "cell_type": "code",
   "execution_count": 205,
   "metadata": {},
   "outputs": [],
   "source": [
    "v = len(getdata(training_data)[0])"
   ]
  },
  {
   "cell_type": "code",
   "execution_count": 206,
   "metadata": {},
   "outputs": [
    {
     "data": {
      "text/plain": [
       "78"
      ]
     },
     "execution_count": 206,
     "metadata": {},
     "output_type": "execute_result"
    }
   ],
   "source": [
    "v"
   ]
  },
  {
   "cell_type": "markdown",
   "metadata": {},
   "source": [
    "### Example "
   ]
  },
  {
   "cell_type": "code",
   "execution_count": 207,
   "metadata": {},
   "outputs": [
    {
     "data": {
      "text/plain": [
       "['violenc-mar-poll-in-bangladesh',\n",
       " 'sheikh-hasina-set-to-form-govt-again',\n",
       " 'four-kill-in-postpol-violenc-in-bangladesh']"
      ]
     },
     "execution_count": 207,
     "metadata": {},
     "output_type": "execute_result"
    }
   ],
   "source": [
    "data2 #Training data for class - \"Bangladesh\""
   ]
  },
  {
   "cell_type": "code",
   "execution_count": 208,
   "metadata": {},
   "outputs": [
    {
     "data": {
      "text/plain": [
       "{'again',\n",
       " 'bangladesh',\n",
       " 'form',\n",
       " 'four',\n",
       " 'govt',\n",
       " 'hasina',\n",
       " 'in',\n",
       " 'kill',\n",
       " 'mar',\n",
       " 'poll',\n",
       " 'postpol',\n",
       " 'set',\n",
       " 'sheikh',\n",
       " 'to',\n",
       " 'violenc'}"
      ]
     },
     "execution_count": 208,
     "metadata": {},
     "output_type": "execute_result"
    }
   ],
   "source": [
    "c2_words #Words in data of the class - \"Bangladesh\""
   ]
  },
  {
   "cell_type": "code",
   "execution_count": 209,
   "metadata": {},
   "outputs": [
    {
     "data": {
      "text/plain": [
       "{'violenc': 2,\n",
       " 'mar': 1,\n",
       " 'poll': 1,\n",
       " 'in': 3,\n",
       " 'bangladesh': 2,\n",
       " 'sheikh': 1,\n",
       " 'hasina': 1,\n",
       " 'set': 1,\n",
       " 'to': 1,\n",
       " 'form': 1,\n",
       " 'govt': 1,\n",
       " 'again': 1,\n",
       " 'four': 1,\n",
       " 'kill': 1,\n",
       " 'postpol': 1}"
      ]
     },
     "execution_count": 209,
     "metadata": {},
     "output_type": "execute_result"
    }
   ],
   "source": [
    "c2_freq #Frequency of words"
   ]
  },
  {
   "cell_type": "markdown",
   "metadata": {},
   "source": [
    "## Naive-Bayes Classification on Test-Data"
   ]
  },
  {
   "cell_type": "code",
   "execution_count": 211,
   "metadata": {},
   "outputs": [
    {
     "name": "stdout",
     "output_type": "stream",
     "text": [
      "Test Data:#1\n",
      "sheikh-hasina-keep-home-foreign-affair-defenc-portfolio\n",
      "\n",
      "Probability of being 'India': 7.021979783207575e-18\n",
      "Probability of being 'Bangladesh': 1.3402865980381712e-16\n",
      "Probability of being 'Others': 3.1753379936187303e-17\n",
      "\n",
      "Classified into(based on NB): Bangladesh (1.3402865980381712e-16)\n",
      "=============================================================================================================================\n",
      "Test Data:#2\n",
      "hasina-readi-to-protect-democraci\n",
      "\n",
      "Probability of being 'India': 6.608067780490447e-11\n",
      "Probability of being 'Bangladesh': 1.0780689071381892e-10\n",
      "Probability of being 'Others': 2.2385148500234025e-11\n",
      "\n",
      "Classified into(based on NB): Bangladesh (1.0780689071381892e-10)\n",
      "=============================================================================================================================\n",
      "Test Data:#3\n",
      "agusta-get-stay-on-india-encash-bank-guarante\n",
      "\n",
      "Probability of being 'India': 1.404395956641515e-17\n",
      "Probability of being 'Bangladesh': 3.350716495095428e-17\n",
      "Probability of being 'Others': 6.350675987237461e-17\n",
      "\n",
      "Classified into(based on NB): Others (6.350675987237461e-17)\n",
      "=============================================================================================================================\n",
      "Test Data:#4\n",
      "modi-nervou-over-aap-emerg-congress\n",
      "\n",
      "Probability of being 'India': 1.863177005777382e-12\n",
      "Probability of being 'Bangladesh': 2.8980346966080357e-13\n",
      "Probability of being 'Others': 2.515185224745396e-13\n",
      "\n",
      "Classified into(based on NB): India (1.863177005777382e-12)\n",
      "=============================================================================================================================\n",
      "Test Data:#5\n",
      "unit-ap-support-burn-copi-of-draft-tbill\n",
      "\n",
      "Probability of being 'India': 8.42637573984909e-17\n",
      "Probability of being 'Bangladesh': 3.350716495095428e-17\n",
      "Probability of being 'Others': 3.1753379936187303e-17\n",
      "\n",
      "Classified into(based on NB): India (8.42637573984909e-17)\n",
      "=============================================================================================================================\n",
      "Test Data:#6\n",
      "seemandhra-mp-ignor-aicc-team\n",
      "\n",
      "Probability of being 'India': 3.3040338902452237e-11\n",
      "Probability of being 'Bangladesh': 2.695172267845473e-11\n",
      "Probability of being 'Others': 2.2385148500234025e-11\n",
      "\n",
      "Classified into(based on NB): India (3.3040338902452237e-11)\n",
      "=============================================================================================================================\n",
      "Test Data:#7\n",
      "sena-slam-devyani-father-for-term-media-casteist\n",
      "\n",
      "Probability of being 'India': 4.2131878699245454e-17\n",
      "Probability of being 'Bangladesh': 3.350716495095428e-17\n",
      "Probability of being 'Others': 3.1753379936187303e-17\n",
      "\n",
      "Classified into(based on NB): India (4.2131878699245454e-17)\n",
      "=============================================================================================================================\n",
      "Test Data:#8\n",
      "evangelist-benni-hinn-bangalor-visit-cancel\n",
      "\n",
      "Probability of being 'India': 1.2421180038515879e-13\n",
      "Probability of being 'Bangladesh': 2.8980346966080357e-13\n",
      "Probability of being 'Others': 5.030370449490792e-13\n",
      "\n",
      "Classified into(based on NB): Others (5.030370449490792e-13)\n",
      "=============================================================================================================================\n",
      "Test Data:#9\n",
      "mallika-sarabhai-join-aap\n",
      "\n",
      "Probability of being 'India': 1.3183095222078443e-08\n",
      "Probability of being 'Bangladesh': 2.50651020909629e-09\n",
      "Probability of being 'Others': 1.9922782165208283e-09\n",
      "\n",
      "Classified into(based on NB): India (1.3183095222078443e-08)\n",
      "=============================================================================================================================\n",
      "Test Data:#10\n",
      "devyani-khobragad-leav-for-india-mea\n",
      "\n",
      "Probability of being 'India': 7.452708023109528e-13\n",
      "Probability of being 'Bangladesh': 2.8980346966080357e-13\n",
      "Probability of being 'Others': 2.515185224745396e-13\n",
      "\n",
      "Classified into(based on NB): India (7.452708023109528e-13)\n",
      "=============================================================================================================================\n",
      "Test Data:#11\n",
      "deepli-regret-that-india-expel-our-diplomat-us\n",
      "\n",
      "Probability of being 'India': 1.404395956641515e-17\n",
      "Probability of being 'Bangladesh': 3.350716495095428e-17\n",
      "Probability of being 'Others': 3.1753379936187303e-17\n",
      "\n",
      "Classified into(based on NB): Bangladesh (3.350716495095428e-17)\n",
      "=============================================================================================================================\n",
      "Test Data:#12\n",
      "milkha-singh-wife-daughter-join-aap\n",
      "\n",
      "Probability of being 'India': 7.452708023109527e-13\n",
      "Probability of being 'Bangladesh': 2.8980346966080357e-13\n",
      "Probability of being 'Others': 2.515185224745396e-13\n",
      "\n",
      "Classified into(based on NB): India (7.452708023109527e-13)\n",
      "=============================================================================================================================\n",
      "Test Data:#13\n",
      "baba-ramdev-to-begin-vote-for-modi-yatra\n",
      "\n",
      "Probability of being 'India': 2.527912721954727e-15\n",
      "Probability of being 'Bangladesh': 6.701432990190856e-17\n",
      "Probability of being 'Others': 3.1753379936187303e-17\n",
      "\n",
      "Classified into(based on NB): India (2.527912721954727e-15)\n",
      "=============================================================================================================================\n",
      "Test Data:#14\n",
      "bjp-launch-drive-for-donat-to-modi-for-pm-fund\n",
      "\n",
      "Probability of being 'India': 2.1436311170400201e-19\n",
      "Probability of being 'Bangladesh': 7.748217123587533e-21\n",
      "Probability of being 'Others': 4.0087589870202376e-21\n",
      "\n",
      "Classified into(based on NB): India (2.1436311170400201e-19)\n",
      "=============================================================================================================================\n"
     ]
    }
   ],
   "source": [
    "for i in range(0,len(test_data)):\n",
    "    x=test_data[i].split(\"-\")\n",
    "    temp={}\n",
    "    proba,probb,probc=pa,pb,pc\n",
    "    for j in x:\n",
    "        if j not in c1_freq:\n",
    "            c1_freq[j]=0\n",
    "        if j not in c2_freq:\n",
    "            c2_freq[j]=0\n",
    "        if j not in c3_freq:\n",
    "            c3_freq[j]=0\n",
    "        proba=proba*(c1_freq[j]+1)/(len(c1_words)+v)\n",
    "        probb=probb*(c2_freq[j]+1)/(len(c2_words)+v)\n",
    "        probc=probc*(c3_freq[j]+1)/(len(c3_words)+v)\n",
    "    temp[proba],temp[probb],temp[probc]=\"India\",\"Bangladesh\",\"Others\"\n",
    "    print(\"Test Data:#\"+str(i+1))\n",
    "    print(test_data[i])\n",
    "    print()\n",
    "    print(\"Probability of being 'India':\",proba)\n",
    "    print(\"Probability of being 'Bangladesh':\",probb)\n",
    "    print(\"Probability of being 'Others':\",probc)\n",
    "    print()\n",
    "    print(\"Classified into(based on NB):\",temp[max(proba,probb,probc)],\"(\"+str(max(proba,probb,probc))+\")\")\n",
    "    print(\"=\"*125)"
   ]
  }
 ],
 "metadata": {
  "kernelspec": {
   "display_name": "Python 3",
   "language": "python",
   "name": "python3"
  },
  "language_info": {
   "codemirror_mode": {
    "name": "ipython",
    "version": 3
   },
   "file_extension": ".py",
   "mimetype": "text/x-python",
   "name": "python",
   "nbconvert_exporter": "python",
   "pygments_lexer": "ipython3",
   "version": "3.8.5"
  }
 },
 "nbformat": 4,
 "nbformat_minor": 4
}
