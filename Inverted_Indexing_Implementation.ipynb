{
 "cells": [
  {
   "cell_type": "markdown",
   "metadata": {},
   "source": [
    "<center><h1>Inverted Indexing</h1></center>"
   ]
  },
  {
   "cell_type": "code",
   "execution_count": 24,
   "metadata": {},
   "outputs": [],
   "source": [
    "from nltk.stem import PorterStemmer\n",
    "from nltk.tokenize import word_tokenize\n",
    "  \n",
    "ps = PorterStemmer()"
   ]
  },
  {
   "cell_type": "code",
   "execution_count": 25,
   "metadata": {},
   "outputs": [],
   "source": [
    "doc1 = \"On February 14, 2019, a terror attack was carried out in Pulwama in Jammu and Kashmir by a suicide bomber resulting in the death of 40 CRPF personnel.\"\n",
    "doc2 = \"The Indian Air Force early Tuesday morning destroyed a major terror training camp of the Jaish-e-Mohammed in Balakot, Pakistan. Several terror trainers and suicide bombers were killed in the attack that lasted just eight minutes.\"\n",
    "doc3 = \"IAF releases proofs of shooting down Pakistan's F-16 fighter jet.\""
   ]
  },
  {
   "cell_type": "code",
   "execution_count": 26,
   "metadata": {},
   "outputs": [],
   "source": [
    "bad_chars = [';', ':', '!', '*','-',',','.',\"'\"]\n",
    "for i in bad_chars :\n",
    "    doc1 = doc1.replace(i, '')\n",
    "    doc2 = doc2.replace(i, '')\n",
    "    doc3 = doc3.replace(i, '')"
   ]
  },
  {
   "cell_type": "code",
   "execution_count": 27,
   "metadata": {},
   "outputs": [],
   "source": [
    "doc1=doc1.lower()"
   ]
  },
  {
   "cell_type": "code",
   "execution_count": 28,
   "metadata": {},
   "outputs": [],
   "source": [
    "doc2=doc2.lower()"
   ]
  },
  {
   "cell_type": "code",
   "execution_count": 29,
   "metadata": {},
   "outputs": [],
   "source": [
    "doc3=doc3.lower()"
   ]
  },
  {
   "cell_type": "code",
   "execution_count": 30,
   "metadata": {},
   "outputs": [
    {
     "data": {
      "text/plain": [
       "'on february 14 2019 a terror attack was carried out in pulwama in jammu and kashmir by a suicide bomber resulting in the death of 40 crpf personnel'"
      ]
     },
     "execution_count": 30,
     "metadata": {},
     "output_type": "execute_result"
    }
   ],
   "source": [
    "doc1"
   ]
  },
  {
   "cell_type": "code",
   "execution_count": 31,
   "metadata": {},
   "outputs": [
    {
     "data": {
      "text/plain": [
       "'the indian air force early tuesday morning destroyed a major terror training camp of the jaishemohammed in balakot pakistan several terror trainers and suicide bombers were killed in the attack that lasted just eight minutes'"
      ]
     },
     "execution_count": 31,
     "metadata": {},
     "output_type": "execute_result"
    }
   ],
   "source": [
    "doc2"
   ]
  },
  {
   "cell_type": "code",
   "execution_count": 32,
   "metadata": {},
   "outputs": [
    {
     "data": {
      "text/plain": [
       "'iaf releases proofs of shooting down pakistans f16 fighter jet'"
      ]
     },
     "execution_count": 32,
     "metadata": {},
     "output_type": "execute_result"
    }
   ],
   "source": [
    "doc3"
   ]
  },
  {
   "cell_type": "code",
   "execution_count": 33,
   "metadata": {},
   "outputs": [],
   "source": [
    "words1 = doc1.split()\n",
    "words2 = doc2.split()\n",
    "words3 = doc3.split()\n",
    "words = set()"
   ]
  },
  {
   "cell_type": "code",
   "execution_count": 34,
   "metadata": {},
   "outputs": [],
   "source": [
    "for i in range(0,len(words1)):\n",
    "    words1[i]=ps.stem(words1[i])\n",
    "    words.add(words1[i])"
   ]
  },
  {
   "cell_type": "code",
   "execution_count": 35,
   "metadata": {},
   "outputs": [],
   "source": [
    "for i in range(0,len(words2)):\n",
    "    words2[i]=ps.stem(words2[i])\n",
    "    words.add(words2[i])"
   ]
  },
  {
   "cell_type": "code",
   "execution_count": 36,
   "metadata": {},
   "outputs": [],
   "source": [
    "for i in range(0,len(words3)):\n",
    "    words3[i]=ps.stem(words3[i])\n",
    "    words.add(words3[i])"
   ]
  },
  {
   "cell_type": "code",
   "execution_count": 37,
   "metadata": {},
   "outputs": [
    {
     "data": {
      "text/plain": [
       "['on',\n",
       " 'februari',\n",
       " '14',\n",
       " '2019',\n",
       " 'a',\n",
       " 'terror',\n",
       " 'attack',\n",
       " 'wa',\n",
       " 'carri',\n",
       " 'out',\n",
       " 'in',\n",
       " 'pulwama',\n",
       " 'in',\n",
       " 'jammu',\n",
       " 'and',\n",
       " 'kashmir',\n",
       " 'by',\n",
       " 'a',\n",
       " 'suicid',\n",
       " 'bomber',\n",
       " 'result',\n",
       " 'in',\n",
       " 'the',\n",
       " 'death',\n",
       " 'of',\n",
       " '40',\n",
       " 'crpf',\n",
       " 'personnel']"
      ]
     },
     "execution_count": 37,
     "metadata": {},
     "output_type": "execute_result"
    }
   ],
   "source": [
    "words1"
   ]
  },
  {
   "cell_type": "code",
   "execution_count": 38,
   "metadata": {},
   "outputs": [
    {
     "data": {
      "text/plain": [
       "['the',\n",
       " 'indian',\n",
       " 'air',\n",
       " 'forc',\n",
       " 'earli',\n",
       " 'tuesday',\n",
       " 'morn',\n",
       " 'destroy',\n",
       " 'a',\n",
       " 'major',\n",
       " 'terror',\n",
       " 'train',\n",
       " 'camp',\n",
       " 'of',\n",
       " 'the',\n",
       " 'jaishemoham',\n",
       " 'in',\n",
       " 'balakot',\n",
       " 'pakistan',\n",
       " 'sever',\n",
       " 'terror',\n",
       " 'trainer',\n",
       " 'and',\n",
       " 'suicid',\n",
       " 'bomber',\n",
       " 'were',\n",
       " 'kill',\n",
       " 'in',\n",
       " 'the',\n",
       " 'attack',\n",
       " 'that',\n",
       " 'last',\n",
       " 'just',\n",
       " 'eight',\n",
       " 'minut']"
      ]
     },
     "execution_count": 38,
     "metadata": {},
     "output_type": "execute_result"
    }
   ],
   "source": [
    "words2"
   ]
  },
  {
   "cell_type": "code",
   "execution_count": 39,
   "metadata": {},
   "outputs": [
    {
     "data": {
      "text/plain": [
       "['iaf',\n",
       " 'releas',\n",
       " 'proof',\n",
       " 'of',\n",
       " 'shoot',\n",
       " 'down',\n",
       " 'pakistan',\n",
       " 'f16',\n",
       " 'fighter',\n",
       " 'jet']"
      ]
     },
     "execution_count": 39,
     "metadata": {},
     "output_type": "execute_result"
    }
   ],
   "source": [
    "words3"
   ]
  },
  {
   "cell_type": "code",
   "execution_count": 40,
   "metadata": {},
   "outputs": [],
   "source": [
    "dict1 = {}\n",
    "dict2 = {}\n",
    "dict3 = {}"
   ]
  },
  {
   "cell_type": "code",
   "execution_count": 41,
   "metadata": {},
   "outputs": [
    {
     "data": {
      "text/plain": [
       "{'14',\n",
       " '2019',\n",
       " '40',\n",
       " 'a',\n",
       " 'air',\n",
       " 'and',\n",
       " 'attack',\n",
       " 'balakot',\n",
       " 'bomber',\n",
       " 'by',\n",
       " 'camp',\n",
       " 'carri',\n",
       " 'crpf',\n",
       " 'death',\n",
       " 'destroy',\n",
       " 'down',\n",
       " 'earli',\n",
       " 'eight',\n",
       " 'f16',\n",
       " 'februari',\n",
       " 'fighter',\n",
       " 'forc',\n",
       " 'iaf',\n",
       " 'in',\n",
       " 'indian',\n",
       " 'jaishemoham',\n",
       " 'jammu',\n",
       " 'jet',\n",
       " 'just',\n",
       " 'kashmir',\n",
       " 'kill',\n",
       " 'last',\n",
       " 'major',\n",
       " 'minut',\n",
       " 'morn',\n",
       " 'of',\n",
       " 'on',\n",
       " 'out',\n",
       " 'pakistan',\n",
       " 'personnel',\n",
       " 'proof',\n",
       " 'pulwama',\n",
       " 'releas',\n",
       " 'result',\n",
       " 'sever',\n",
       " 'shoot',\n",
       " 'suicid',\n",
       " 'terror',\n",
       " 'that',\n",
       " 'the',\n",
       " 'train',\n",
       " 'trainer',\n",
       " 'tuesday',\n",
       " 'wa',\n",
       " 'were'}"
      ]
     },
     "execution_count": 41,
     "metadata": {},
     "output_type": "execute_result"
    }
   ],
   "source": [
    "words"
   ]
  },
  {
   "cell_type": "code",
   "execution_count": 48,
   "metadata": {},
   "outputs": [],
   "source": [
    "wordslist=[]\n",
    "freq=[]\n",
    "index=[]\n",
    "for i in words:\n",
    "    wordslist.append(i)\n",
    "    freq.append(words1.count(i)+words2.count(i)+words3.count(i))\n",
    "    tmp=[]\n",
    "    for j in range(0,len(words1)):\n",
    "        if words1[j]==i:\n",
    "            tmp.append([1,j+1])\n",
    "    for j in range(0,len(words2)):\n",
    "        if words2[j]==i:\n",
    "            tmp.append([2,j+1])\n",
    "    for j in range(0,len(words3)):\n",
    "        if words3[j]==i:\n",
    "            tmp.append([3,j+1])\n",
    "    index.append(tmp)\n",
    "    "
   ]
  },
  {
   "cell_type": "code",
   "execution_count": 67,
   "metadata": {},
   "outputs": [
    {
     "name": "stdout",
     "output_type": "stream",
     "text": [
      "Words \t\tFreq \tIndex\n",
      "attack \t\t 2 \t [[1, 7], [2, 30]]\n",
      "2019 \t\t 1 \t [[1, 4]]\n",
      "jet \t\t 1 \t [[3, 10]]\n",
      "out \t\t 1 \t [[1, 10]]\n",
      "balakot \t 1 \t [[2, 18]]\n",
      "that \t\t 1 \t [[2, 31]]\n",
      "wa \t\t 1 \t [[1, 8]]\n",
      "train \t\t 1 \t [[2, 12]]\n",
      "camp \t\t 1 \t [[2, 13]]\n",
      "last \t\t 1 \t [[2, 32]]\n",
      "eight \t\t 1 \t [[2, 34]]\n",
      "sever \t\t 1 \t [[2, 20]]\n",
      "carri \t\t 1 \t [[1, 9]]\n",
      "kashmir \t 1 \t [[1, 16]]\n",
      "indian \t\t 1 \t [[2, 2]]\n",
      "and \t\t 2 \t [[1, 15], [2, 23]]\n",
      "morn \t\t 1 \t [[2, 7]]\n",
      "pakistan \t 2 \t [[2, 19], [3, 7]]\n",
      "releas \t\t 1 \t [[3, 2]]\n",
      "kill \t\t 1 \t [[2, 27]]\n",
      "on \t\t 1 \t [[1, 1]]\n",
      "jammu \t\t 1 \t [[1, 14]]\n",
      "trainer \t 1 \t [[2, 22]]\n",
      "f16 \t\t 1 \t [[3, 8]]\n",
      "terror \t\t 3 \t [[1, 6], [2, 11], [2, 21]]\n",
      "minut \t\t 1 \t [[2, 35]]\n",
      "were \t\t 1 \t [[2, 26]]\n",
      "by \t\t 1 \t [[1, 17]]\n",
      "februari \t 1 \t [[1, 2]]\n",
      "jaishemoham \t 1 \t [[2, 16]]\n",
      "down \t\t 1 \t [[3, 6]]\n",
      "proof \t\t 1 \t [[3, 3]]\n",
      "of \t\t 3 \t [[1, 25], [2, 14], [3, 4]]\n",
      "destroy \t 1 \t [[2, 8]]\n",
      "result \t\t 1 \t [[1, 21]]\n",
      "pulwama \t 1 \t [[1, 12]]\n",
      "earli \t\t 1 \t [[2, 5]]\n",
      "personnel \t 1 \t [[1, 28]]\n",
      "just \t\t 1 \t [[2, 33]]\n",
      "death \t\t 1 \t [[1, 24]]\n",
      "suicid \t\t 2 \t [[1, 19], [2, 24]]\n",
      "major \t\t 1 \t [[2, 10]]\n",
      "in \t\t 5 \t [[1, 11], [1, 13], [1, 22], [2, 17], [2, 28]]\n",
      "air \t\t 1 \t [[2, 3]]\n",
      "a \t\t 3 \t [[1, 5], [1, 18], [2, 9]]\n",
      "14 \t\t 1 \t [[1, 3]]\n",
      "crpf \t\t 1 \t [[1, 27]]\n",
      "tuesday \t 1 \t [[2, 6]]\n",
      "iaf \t\t 1 \t [[3, 1]]\n",
      "40 \t\t 1 \t [[1, 26]]\n",
      "bomber \t\t 2 \t [[1, 20], [2, 25]]\n",
      "shoot \t\t 1 \t [[3, 5]]\n",
      "the \t\t 4 \t [[1, 23], [2, 1], [2, 15], [2, 29]]\n",
      "fighter \t 1 \t [[3, 9]]\n",
      "forc \t\t 1 \t [[2, 4]]\n"
     ]
    }
   ],
   "source": [
    "print(\"Words \\t\\tFreq \\tIndex\")\n",
    "for i in range(0,len(index)):\n",
    "    if(len(wordslist[i])<7):\n",
    "        print(wordslist[i],\"\\t\\t\",freq[i],\"\\t\",index[i])\n",
    "    else:\n",
    "        print(wordslist[i],\"\\t\",freq[i],\"\\t\",index[i])"
   ]
  },
  {
   "cell_type": "code",
   "execution_count": null,
   "metadata": {},
   "outputs": [],
   "source": []
  }
 ],
 "metadata": {
  "kernelspec": {
   "display_name": "Python 3",
   "language": "python",
   "name": "python3"
  },
  "language_info": {
   "codemirror_mode": {
    "name": "ipython",
    "version": 3
   },
   "file_extension": ".py",
   "mimetype": "text/x-python",
   "name": "python",
   "nbconvert_exporter": "python",
   "pygments_lexer": "ipython3",
   "version": "3.8.5"
  }
 },
 "nbformat": 4,
 "nbformat_minor": 4
}
