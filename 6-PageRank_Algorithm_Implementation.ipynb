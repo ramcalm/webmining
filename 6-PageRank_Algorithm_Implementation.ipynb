{
 "cells": [
  {
   "cell_type": "markdown",
   "metadata": {},
   "source": [
    "<center><h1>Page-Ranking Algorithm</h1></center>"
   ]
  },
  {
   "cell_type": "markdown",
   "metadata": {},
   "source": [
    "# Notebook Link"
   ]
  },
  {
   "cell_type": "markdown",
   "metadata": {},
   "source": [
    "### https://tinyurl.com/vvarmv4"
   ]
  },
  {
   "cell_type": "markdown",
   "metadata": {
    "id": "Y4csVATziFgL"
   },
   "source": [
    "# Graph 1"
   ]
  },
  {
   "cell_type": "markdown",
   "metadata": {
    "id": "XL_EtjgFhETD"
   },
   "source": [
    "<p align=\"center\">\n",
    "  <img src=\"https://i.ibb.co/9h2X5Nm/graph1.jpg\">\n",
    "</p>"
   ]
  },
  {
   "cell_type": "markdown",
   "metadata": {
    "id": "41VHKFDOiIby"
   },
   "source": [
    "<h3> Let d0,d1,d2,d3,d4,d5,d6 be 0,1,2,3,4,5,6 </h3>\n"
   ]
  },
  {
   "cell_type": "code",
   "execution_count": 78,
   "metadata": {},
   "outputs": [],
   "source": [
    "n = 7 #Number of Nodes"
   ]
  },
  {
   "cell_type": "markdown",
   "metadata": {
    "id": "n1aOhKdHwkIi"
   },
   "source": [
    "## Initialize the Indegree and Outdegree matrix representing the links between vertices"
   ]
  },
  {
   "cell_type": "code",
   "execution_count": 79,
   "metadata": {
    "id": "oW290gnEhB44"
   },
   "outputs": [],
   "source": [
    "indeg = {0: [2], 1: [1], 2:[0, 1, 2], 3:[2, 3, 6], 4:[3, 6], 5:[5], 6:[4, 5, 6]}\n",
    "outdeg = {0: [2], 1: [1, 2], 2:[0, 2, 3], 3:[3, 4], 4: [6], 5:[5, 6], 6:[3, 4, 6]}\n"
   ]
  },
  {
   "cell_type": "markdown",
   "metadata": {
    "id": "QiWYhY-IyQQ7"
   },
   "source": [
    "## Question: 1"
   ]
  },
  {
   "cell_type": "markdown",
   "metadata": {
    "id": "SIFadvLSw_Bz"
   },
   "source": [
    "### Calculating Page-Rank of Nodes in Graph-1 without including Self-loops (**Question: 1**)"
   ]
  },
  {
   "cell_type": "code",
   "execution_count": 80,
   "metadata": {
    "id": "SAUBjcUijEFU"
   },
   "outputs": [
    {
     "name": "stdout",
     "output_type": "stream",
     "text": [
      "[4.0321637639119726e-07, 0.0, 2.688109175941315e-07, 0.04761945083542401, 0.14285714285714285, 0.14285714285714285, 0.14285714285714285]\n"
     ]
    }
   ],
   "source": [
    "rank = [1.0/n]*n\n",
    "\n",
    "for i in range(1,25):\n",
    "    curr_rank = []\n",
    "    for x in rank:\n",
    "        curr_rank.append(x)\n",
    "    for j in range(0,4):\n",
    "        curr = 0.0\n",
    "        for k in indeg[j]:\n",
    "            if k==j:\n",
    "                continue\n",
    "            curr+=(0.0+curr_rank[k])/len(outdeg[k])\n",
    "        rank[j]=curr\n",
    "print(rank)"
   ]
  },
  {
   "cell_type": "code",
   "execution_count": 84,
   "metadata": {},
   "outputs": [],
   "source": [
    "seq = sorted(rank,reverse=True)\n",
    "index = [seq.index(v) for v in rank]"
   ]
  },
  {
   "cell_type": "code",
   "execution_count": 85,
   "metadata": {},
   "outputs": [
    {
     "data": {
      "text/plain": [
       "[4, 6, 5, 3, 0, 0, 0]"
      ]
     },
     "execution_count": 85,
     "metadata": {},
     "output_type": "execute_result"
    }
   ],
   "source": [
    "index"
   ]
  },
  {
   "cell_type": "markdown",
   "metadata": {
    "id": "xZUGEK49zeLZ"
   },
   "source": [
    "### Output"
   ]
  },
  {
   "cell_type": "code",
   "execution_count": 86,
   "metadata": {
    "colab": {
     "base_uri": "https://localhost:8080/"
    },
    "id": "B97a_FBTl0fI",
    "outputId": "d5d5e10d-de6c-421c-a768-54824ce2083d"
   },
   "outputs": [
    {
     "name": "stdout",
     "output_type": "stream",
     "text": [
      "Node\t\tRank\t\tScore\n",
      "d0\t\t4\t\t0.00000040\n",
      "d1\t\t6\t\t0.00000000\n",
      "d2\t\t5\t\t0.00000027\n",
      "d3\t\t3\t\t0.04761945\n",
      "d4\t\t0\t\t0.14285714\n",
      "d5\t\t0\t\t0.14285714\n",
      "d6\t\t0\t\t0.14285714\n"
     ]
    }
   ],
   "source": [
    "print(\"Node\\t\\tRank\\t\\tScore\")\n",
    "for i in range(0,7):\n",
    "  print(\"d\"+str(i)+\"\\t\\t\"+str(index[i])+\"\\t\\t\"+str(format(rank[i],'.8f')))"
   ]
  },
  {
   "cell_type": "markdown",
   "metadata": {
    "id": "ImG9Zh4nyLP0"
   },
   "source": [
    "## Question: 2"
   ]
  },
  {
   "cell_type": "markdown",
   "metadata": {
    "id": "XzhZSlOSxONS"
   },
   "source": [
    "### Calculating Page-Rank Score for Graph-1 including Self-loops (**Question: 2**)"
   ]
  },
  {
   "cell_type": "code",
   "execution_count": 87,
   "metadata": {
    "id": "yNJ_DCt4pEj7"
   },
   "outputs": [
    {
     "name": "stdout",
     "output_type": "stream",
     "text": [
      "[0.00028928210321282856, 8.514949253627232e-09, 0.0006661558056453502, 0.09606775814870576, 0.14285714285714285, 0.14285714285714285, 0.14285714285714285]\n"
     ]
    }
   ],
   "source": [
    "rank = [1.0/n]*n\n",
    "\n",
    "for i in range(1,25):\n",
    "    curr_rank = []\n",
    "    for x in rank:\n",
    "        curr_rank.append(x)\n",
    "    for j in range(0,4):\n",
    "        curr = 0.0\n",
    "        for k in indeg[j]:\n",
    "            curr+=(0.0+curr_rank[k])/len(outdeg[k])\n",
    "        rank[j]=curr\n",
    "print(rank)"
   ]
  },
  {
   "cell_type": "code",
   "execution_count": 88,
   "metadata": {},
   "outputs": [],
   "source": [
    "seq = sorted(rank,reverse=True)\n",
    "index = [seq.index(v) for v in rank]"
   ]
  },
  {
   "cell_type": "code",
   "execution_count": 89,
   "metadata": {},
   "outputs": [
    {
     "data": {
      "text/plain": [
       "[5, 6, 4, 3, 0, 0, 0]"
      ]
     },
     "execution_count": 89,
     "metadata": {},
     "output_type": "execute_result"
    }
   ],
   "source": [
    "index"
   ]
  },
  {
   "cell_type": "markdown",
   "metadata": {
    "id": "3rb6wKC6zZKa"
   },
   "source": [
    "### Output"
   ]
  },
  {
   "cell_type": "code",
   "execution_count": 90,
   "metadata": {
    "colab": {
     "base_uri": "https://localhost:8080/"
    },
    "id": "kJbduMb_zVfg",
    "outputId": "e12c653c-4caa-4915-f7a6-070c3cff92cd"
   },
   "outputs": [
    {
     "name": "stdout",
     "output_type": "stream",
     "text": [
      "Node\t\tRank\t\tScore\n",
      "d0\t\t5\t\t0.00028928\n",
      "d1\t\t6\t\t0.00000001\n",
      "d2\t\t4\t\t0.00066616\n",
      "d3\t\t3\t\t0.09606776\n",
      "d4\t\t0\t\t0.14285714\n",
      "d5\t\t0\t\t0.14285714\n",
      "d6\t\t0\t\t0.14285714\n"
     ]
    }
   ],
   "source": [
    "print(\"Node\\t\\tRank\\t\\tScore\")\n",
    "for i in range(0,7):\n",
    "  print(\"d\"+str(i)+\"\\t\\t\"+str(index[i])+\"\\t\\t\"+str(format(rank[i],'.8f')))"
   ]
  },
  {
   "cell_type": "markdown",
   "metadata": {
    "id": "ni4fC607vkyh"
   },
   "source": [
    "# Graph 2"
   ]
  },
  {
   "cell_type": "markdown",
   "metadata": {
    "id": "1P1gfMxNvqCJ"
   },
   "source": [
    "<p align=\"center\">\n",
    "  <img src=\"https://i.ibb.co/71PBrpM/graph2.jpg\">\n",
    "</p>"
   ]
  },
  {
   "cell_type": "markdown",
   "metadata": {
    "id": "vYOtxTmFxczZ"
   },
   "source": [
    "## Initialize the Indegree and Outdegree lists representing the links between vertices. Since in this graph the number of links between vertices maybe greater than 1, create the lists accordingly \n",
    "\n",
    "<h3>Ex: As there are 2 links from 2 to 3, outdeg[2] will be [0,2,3,3]</h3>"
   ]
  },
  {
   "cell_type": "code",
   "execution_count": 91,
   "metadata": {
    "id": "Ruj9Ye4duVLb"
   },
   "outputs": [],
   "source": [
    "indeg = {0: [2], 1: [1], 2:[0, 1, 2], 3:[2, 2, 3, 6, 6], 4:[3, 6], 5:[5], 6:[4, 5, 6]}\n",
    "outdeg = {0: [2], 1: [1, 2], 2:[0, 2, 3, 3], 3:[3, 4], 4: [6], 5:[5, 6], 6:[3, 3, 4, 6]}"
   ]
  },
  {
   "cell_type": "markdown",
   "metadata": {
    "id": "oa-4e2DPyDLZ"
   },
   "source": [
    "## Question : 3 "
   ]
  },
  {
   "cell_type": "markdown",
   "metadata": {
    "id": "4l0Y3pBLx81J"
   },
   "source": [
    "### Calculating Page-Rank Score for Graph-2 including Self-loops (**Question: 3**)"
   ]
  },
  {
   "cell_type": "code",
   "execution_count": 92,
   "metadata": {
    "id": "mLGakGbywXRo"
   },
   "outputs": [
    {
     "name": "stdout",
     "output_type": "stream",
     "text": [
      "[4.79202456052771e-06, 8.514949253627232e-09, 1.227975796526591e-05, 0.1429004106640558, 0.14285714285714285, 0.14285714285714285, 0.14285714285714285]\n"
     ]
    }
   ],
   "source": [
    "rank = [1.0/n]*n\n",
    "\n",
    "for i in range(1,25):\n",
    "    curr_rank = []\n",
    "    for x in rank:\n",
    "        curr_rank.append(x)\n",
    "    for j in range(0,4):\n",
    "        curr = 0.0\n",
    "        for k in indeg[j]:\n",
    "            curr+=(0.0+curr_rank[k])/len(outdeg[k])\n",
    "        rank[j]=curr\n",
    "print(rank)"
   ]
  },
  {
   "cell_type": "code",
   "execution_count": 93,
   "metadata": {},
   "outputs": [],
   "source": [
    "seq = sorted(rank,reverse=True)\n",
    "index = [seq.index(v) for v in rank]"
   ]
  },
  {
   "cell_type": "code",
   "execution_count": 94,
   "metadata": {},
   "outputs": [
    {
     "data": {
      "text/plain": [
       "[5, 6, 4, 0, 1, 1, 1]"
      ]
     },
     "execution_count": 94,
     "metadata": {},
     "output_type": "execute_result"
    }
   ],
   "source": [
    "index"
   ]
  },
  {
   "cell_type": "markdown",
   "metadata": {
    "id": "1W8wa9fNzF9A"
   },
   "source": [
    "### Output"
   ]
  },
  {
   "cell_type": "code",
   "execution_count": 95,
   "metadata": {
    "colab": {
     "base_uri": "https://localhost:8080/"
    },
    "id": "V2OhKee_yr6h",
    "outputId": "707a8c8b-7787-442d-baab-092001adcc18"
   },
   "outputs": [
    {
     "name": "stdout",
     "output_type": "stream",
     "text": [
      "Node\t\tRank\t\tScore\n",
      "d0\t\t5\t\t0.00000479\n",
      "d1\t\t6\t\t0.00000001\n",
      "d2\t\t4\t\t0.00001228\n",
      "d3\t\t0\t\t0.14290041\n",
      "d4\t\t1\t\t0.14285714\n",
      "d5\t\t1\t\t0.14285714\n",
      "d6\t\t1\t\t0.14285714\n"
     ]
    }
   ],
   "source": [
    "print(\"Node\\t\\tRank\\t\\tScore\")\n",
    "for i in range(0,7):\n",
    "  print(\"d\"+str(i)+\"\\t\\t\"+str(index[i])+\"\\t\\t\"+str(format(rank[i],'.8f')))"
   ]
  }
 ],
 "metadata": {
  "colab": {
   "collapsed_sections": [],
   "name": "Lab6_HITS.ipynb",
   "provenance": []
  },
  "kernelspec": {
   "display_name": "Python 3",
   "language": "python",
   "name": "python3"
  },
  "language_info": {
   "codemirror_mode": {
    "name": "ipython",
    "version": 3
   },
   "file_extension": ".py",
   "mimetype": "text/x-python",
   "name": "python",
   "nbconvert_exporter": "python",
   "pygments_lexer": "ipython3",
   "version": "3.8.5"
  }
 },
 "nbformat": 4,
 "nbformat_minor": 1
}
